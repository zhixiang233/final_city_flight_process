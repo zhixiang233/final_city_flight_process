{
 "cells": [
  {
   "cell_type": "markdown",
   "metadata": {},
   "source": [
    "# 总览\n",
    "\n",
    "\n"
   ]
  },
  {
   "cell_type": "markdown",
   "metadata": {},
   "source": [
    "## 1.按月份所有城市平均出发/到达价格和起降数（city_avg_data)\n",
    "## 2.全国按时间，无城市，平均到达价格-起降数\n",
    "## 3.全国按城市，无时间，平均出发/到达价格\n",
    "## 4.城市在1月到7月每10天的平均(到达)机票价格 (city_tenday_data)\n",
    "## 5.每月全国航班数量/平均到达价格\n",
    "## 6.一天内不同时间的机票平均价格\n",
    "## 7.每天每个城市起降数列表 (city_flightnum_byday)\n",
    "## 8.每个城市平均最低价格及所在最多的时间点"
   ]
  },
  {
   "cell_type": "markdown",
   "metadata": {},
   "source": [
    "# 下载数据"
   ]
  },
  {
   "cell_type": "code",
   "execution_count": 5,
   "metadata": {},
   "outputs": [],
   "source": [
    "import findspark\n",
    "import time\n",
    "from pyspark.sql import SQLContext, SparkSession\n",
    "\n",
    "findspark.init()\n",
    "spark = SparkSession.Builder().appName('sql').master('local').getOrCreate()"
   ]
  },
  {
   "cell_type": "code",
   "execution_count": 6,
   "metadata": {},
   "outputs": [
    {
     "name": "stdout",
     "output_type": "stream",
     "text": [
      "connect success\n"
     ]
    }
   ],
   "source": [
    "prop = {\n",
    "    'user':'root',\n",
    "    'password':'1',\n",
    "    'driver':'com.mysql.jdbc.Driver'\n",
    "}\n",
    "\n",
    "url = 'jdbc:mysql://localhost:3306/flight'\n",
    "df = spark.read.jdbc(url=url, table='flight_split', properties=prop)\n",
    "print('connect success')"
   ]
  },
  {
   "cell_type": "code",
   "execution_count": 4,
   "metadata": {},
   "outputs": [],
   "source": [
    "df.write.json(\"file:///g:/json\")"
   ]
  },
  {
   "cell_type": "markdown",
   "metadata": {},
   "source": [
    "# 处理数据"
   ]
  },
  {
   "cell_type": "markdown",
   "metadata": {},
   "source": [
    "### 读数据"
   ]
  },
  {
   "cell_type": "code",
   "execution_count": 1,
   "metadata": {},
   "outputs": [],
   "source": [
    "from pyspark import SparkConf, SparkContext\n",
    "from pyspark.sql import SparkSession\n",
    "import pyspark.sql.functions as f\n",
    "from pyspark.sql.types import IntegerType\n",
    "import json"
   ]
  },
  {
   "cell_type": "code",
   "execution_count": 2,
   "metadata": {},
   "outputs": [],
   "source": [
    "sparkSession = SparkSession.builder.getOrCreate()\n",
    "df = sparkSession.read.json(\"./final_flight_split.json\")"
   ]
  },
  {
   "cell_type": "code",
   "execution_count": 3,
   "metadata": {},
   "outputs": [
    {
     "name": "stdout",
     "output_type": "stream",
     "text": [
      "+------+------+---------+--------+------+------+---------+-----------+---------+----------+--------+-----------+-----+----------+--------------------+\n",
      "|arr_ap|arr_ct|   arr_tm| company|dep_ap|dep_ct|   dep_tm|   discount|flightNum| flight_dt|plane_sz| plane_type|price|    qry_dt|            rec_uuid|\n",
      "+------+------+---------+--------+------+------+---------+-----------+---------+----------+--------+-----------+-----+----------+--------------------+\n",
      "|      |  三亚| 00:00:00|吉祥航空|      |  上海| 00:00:00|3.1折经济舱|   HO1129|2019-09-12|      中|   空客A321|730.0|2019-09-11|2c0f8dab-56ff-4ea...|\n",
      "|      |  三亚| 00:00:00|四川航空|      |  重庆| 00:00:00|3.1折经济舱|   3U8715|2019-09-12|      中|   空客A320|560.0|2019-09-11|7f3ff21f-5d3a-4a0...|\n",
      "|      |  三亚| 00:00:00|山东航空|      |  济南| 00:00:00|2.3折经济舱|   SC4751|2019-09-13|      中|波音737-800|640.0|2019-09-12|cc08d14f-f89d-4eb...|\n",
      "+------+------+---------+--------+------+------+---------+-----------+---------+----------+--------+-----------+-----+----------+--------------------+\n",
      "only showing top 3 rows\n",
      "\n"
     ]
    }
   ],
   "source": [
    "df.show(3)"
   ]
  },
  {
   "cell_type": "markdown",
   "metadata": {},
   "source": [
    "### 筛选有效信息"
   ]
  },
  {
   "cell_type": "code",
   "execution_count": 15,
   "metadata": {},
   "outputs": [
    {
     "name": "stdout",
     "output_type": "stream",
     "text": [
      "+------+------+--------+---------+---------------+----------+-----+\n",
      "|arr_ct|dep_ct| company|flightNum|           line| flight_dt|price|\n",
      "+------+------+--------+---------+---------------+----------+-----+\n",
      "|  三亚|  上海|吉祥航空|   HO1129|吉祥航空-HO1129|2019-09-12|730.0|\n",
      "|  三亚|  重庆|四川航空|   3U8715|四川航空-3U8715|2019-09-12|560.0|\n",
      "|  三亚|  济南|山东航空|   SC4751|山东航空-SC4751|2019-09-13|640.0|\n",
      "|  三亚|  温州|深圳航空|   ZH9723|深圳航空-ZH9723|2019-09-21|530.0|\n",
      "|  三亚|  重庆|西部航空|   PN6213|西部航空-PN6213|2019-09-12|530.0|\n",
      "+------+------+--------+---------+---------------+----------+-----+\n",
      "only showing top 5 rows\n",
      "\n"
     ]
    }
   ],
   "source": [
    "da = df.drop(\"dep_tm\").drop(\"arr_tm\").drop(\"rec_uuid\").drop(\"arr_ap\").drop(\"dep_ap\").drop(\"discount\").drop(\"plane_type\").drop(\"qry_dt\")\n",
    "da = da.drop(\"plane_sz\")\n",
    "da = da.withColumn(\"line\", f.concat_ws('-',da['company'],da['flightNum']))\n",
    "da = da.select(\"arr_ct\",\"dep_ct\",\"company\",\"flightNum\",\"line\",\"flight_dt\",\"price\")\n",
    "da.show(5)"
   ]
  },
  {
   "cell_type": "markdown",
   "metadata": {},
   "source": [
    "## 1.按月份所有城市平均出发/到达价格和起降数"
   ]
  },
  {
   "cell_type": "markdown",
   "metadata": {},
   "source": [
    "### 月份—城市—到达平均价格—出发平均价格—起飞数—降落数—总起降数"
   ]
  },
  {
   "cell_type": "code",
   "execution_count": 16,
   "metadata": {},
   "outputs": [
    {
     "name": "stdout",
     "output_type": "stream",
     "text": [
      "+------+------+--------+---------+---------------+-----+--------------+\n",
      "|arr_ct|dep_ct| company|flightNum|           line|price|         sp_dt|\n",
      "+------+------+--------+---------+---------------+-----+--------------+\n",
      "|  三亚|  上海|吉祥航空|   HO1129|吉祥航空-HO1129|730.0|[2019, 09, 12]|\n",
      "|  三亚|  重庆|四川航空|   3U8715|四川航空-3U8715|560.0|[2019, 09, 12]|\n",
      "|  三亚|  济南|山东航空|   SC4751|山东航空-SC4751|640.0|[2019, 09, 13]|\n",
      "|  三亚|  温州|深圳航空|   ZH9723|深圳航空-ZH9723|530.0|[2019, 09, 21]|\n",
      "|  三亚|  重庆|西部航空|   PN6213|西部航空-PN6213|530.0|[2019, 09, 12]|\n",
      "+------+------+--------+---------+---------------+-----+--------------+\n",
      "only showing top 5 rows\n",
      "\n"
     ]
    }
   ],
   "source": [
    "da_2 = da.select(\"*\",f.split(da.flight_dt,\"-\").alias(\"sp_dt\")).drop(\"flight_dt\")\n",
    "da_2.show(5)"
   ]
  },
  {
   "cell_type": "code",
   "execution_count": 17,
   "metadata": {},
   "outputs": [
    {
     "name": "stdout",
     "output_type": "stream",
     "text": [
      "+------+------+--------+---------+---------------+-----+--------------+---+\n",
      "|arr_ct|dep_ct| company|flightNum|           line|price|         sp_dt|cnt|\n",
      "+------+------+--------+---------+---------------+-----+--------------+---+\n",
      "|  三亚|  上海|吉祥航空|   HO1129|吉祥航空-HO1129|730.0|[2019, 09, 12]|1.0|\n",
      "|  三亚|  重庆|四川航空|   3U8715|四川航空-3U8715|560.0|[2019, 09, 12]|1.0|\n",
      "|  三亚|  济南|山东航空|   SC4751|山东航空-SC4751|640.0|[2019, 09, 13]|1.0|\n",
      "|  三亚|  温州|深圳航空|   ZH9723|深圳航空-ZH9723|530.0|[2019, 09, 21]|1.0|\n",
      "|  三亚|  重庆|西部航空|   PN6213|西部航空-PN6213|530.0|[2019, 09, 12]|1.0|\n",
      "+------+------+--------+---------+---------------+-----+--------------+---+\n",
      "only showing top 5 rows\n",
      "\n"
     ]
    }
   ],
   "source": [
    "da_3 = da_2.withColumn(\"cnt\",f.abs(da_2.price-da_2.price+1))\n",
    "da_3.show(5)"
   ]
  },
  {
   "cell_type": "markdown",
   "metadata": {},
   "source": [
    "### 出发数据"
   ]
  },
  {
   "cell_type": "code",
   "execution_count": 18,
   "metadata": {},
   "outputs": [
    {
     "name": "stdout",
     "output_type": "stream",
     "text": [
      "+-----+------+-----+---+\n",
      "|month|dep_ct|price|cnt|\n",
      "+-----+------+-----+---+\n",
      "|   09|  上海|730.0|1.0|\n",
      "|   09|  重庆|560.0|1.0|\n",
      "|   09|  济南|640.0|1.0|\n",
      "|   09|  温州|530.0|1.0|\n",
      "|   09|  重庆|530.0|1.0|\n",
      "+-----+------+-----+---+\n",
      "only showing top 5 rows\n",
      "\n"
     ]
    }
   ],
   "source": [
    "ds = da_3.withColumn('month',da_3[\"sp_dt\"].getItem(1)).drop(\"sp_dt\").drop(\"line\").drop(\"arr_ct\").drop(\"company\").drop(\"flightNum\")\n",
    "ds = ds.select(\"month\",\"dep_ct\",\"price\",\"cnt\")\n",
    "ds.show(5)"
   ]
  },
  {
   "cell_type": "code",
   "execution_count": 19,
   "metadata": {},
   "outputs": [
    {
     "name": "stdout",
     "output_type": "stream",
     "text": [
      "+-----+--------+-------+-------------+\n",
      "|month|  dep_ct|sum_dep|avg_dep_price|\n",
      "+-----+--------+-------+-------------+\n",
      "|   12|    大连| 1188.0|       631.46|\n",
      "|   08|乌鲁木齐| 1648.0|       2297.2|\n",
      "|   05|    南昌| 2218.0|       502.17|\n",
      "|   06|    昆明| 8639.0|       473.18|\n",
      "|   07|    昆明| 4588.0|       1079.4|\n",
      "+-----+--------+-------+-------------+\n",
      "only showing top 5 rows\n",
      "\n"
     ]
    }
   ],
   "source": [
    "ds_2 = ds.groupBy(\"month\",\"dep_ct\").agg({\"price\":\"sum\",\"cnt\":\"sum\"})\n",
    "ds_2 = ds_2.select(\"*\",ds_2['sum(price)']/ds_2['sum(cnt)'])\n",
    "ds_2 = ds_2.select(\"*\",f.bround(\"(sum(price) / sum(cnt))\", scale=2).alias('avg_dep_price')).drop(\"(sum(price) / sum(cnt))\").drop(\"sum(price)\")\n",
    "ds_2 = ds_2.withColumnRenamed(\"sum(cnt)\",\"sum_dep\")\n",
    "ds_2.show(5)"
   ]
  },
  {
   "cell_type": "markdown",
   "metadata": {},
   "source": [
    "#### 7月cnt乘2 8月~12月cnt乘4"
   ]
  },
  {
   "cell_type": "code",
   "execution_count": 20,
   "metadata": {},
   "outputs": [
    {
     "name": "stdout",
     "output_type": "stream",
     "text": [
      "+-----+--------+-------+-------------+------------------+\n",
      "|month|  dep_ct|sum_dep|avg_dep_price|           new_dep|\n",
      "+-----+--------+-------+-------------+------------------+\n",
      "|   12|    大连| 1188.0|       631.46|           5084.64|\n",
      "|   08|乌鲁木齐| 1648.0|       2297.2|7053.4400000000005|\n",
      "|   05|    南昌| 2218.0|       502.17|            2218.0|\n",
      "|   06|    昆明| 8639.0|       473.18|            8639.0|\n",
      "|   07|    昆明| 4588.0|       1079.4|10919.439999999999|\n",
      "+-----+--------+-------+-------------+------------------+\n",
      "only showing top 5 rows\n",
      "\n"
     ]
    }
   ],
   "source": [
    "ds_3 = ds_2.withColumn('new_dep',f.when(ds_2['month'] == '07',ds_2['sum_dep']*2.38).when((ds_2['month'] <= '13')& \\\n",
    "                        ('07' < ds_2['month']),ds_2['sum_dep']*4.28).otherwise(ds_2['sum_dep']))\n",
    "ds_3.show(5)"
   ]
  },
  {
   "cell_type": "code",
   "execution_count": 21,
   "metadata": {},
   "outputs": [
    {
     "name": "stdout",
     "output_type": "stream",
     "text": [
      "+-----+--------+-------------+-------+\n",
      "|month|    city|avg_dep_price|sum_dep|\n",
      "+-----+--------+-------------+-------+\n",
      "|   12|    大连|       631.46|   5084|\n",
      "|   08|乌鲁木齐|       2297.2|   7053|\n",
      "|   05|    南昌|       502.17|   2218|\n",
      "|   06|    昆明|       473.18|   8639|\n",
      "|   07|    昆明|       1079.4|  10919|\n",
      "+-----+--------+-------------+-------+\n",
      "only showing top 5 rows\n",
      "\n"
     ]
    }
   ],
   "source": [
    "# 标准化\n",
    "ds_4 = ds_3.drop(\"sum_dep\")\n",
    "ds_4 = ds_4.withColumn(\"sum_dep\", ds_4[\"new_dep\"].cast(IntegerType())).drop(\"new_dep\")\n",
    "ds_4 = ds_4.withColumnRenamed(\"dep_ct\",\"city\") # 方便合并\n",
    "ds_4.show(5)"
   ]
  },
  {
   "cell_type": "code",
   "execution_count": null,
   "metadata": {},
   "outputs": [],
   "source": []
  },
  {
   "cell_type": "markdown",
   "metadata": {},
   "source": [
    "### 到达数据"
   ]
  },
  {
   "cell_type": "code",
   "execution_count": 22,
   "metadata": {},
   "outputs": [
    {
     "name": "stdout",
     "output_type": "stream",
     "text": [
      "+-----+------+-----+---+\n",
      "|month|arr_ct|price|cnt|\n",
      "+-----+------+-----+---+\n",
      "|   09|  三亚|730.0|1.0|\n",
      "|   09|  三亚|560.0|1.0|\n",
      "|   09|  三亚|640.0|1.0|\n",
      "|   09|  三亚|530.0|1.0|\n",
      "|   09|  三亚|530.0|1.0|\n",
      "+-----+------+-----+---+\n",
      "only showing top 5 rows\n",
      "\n"
     ]
    }
   ],
   "source": [
    "dt = da_3.withColumn('month',da_3[\"sp_dt\"].getItem(1)).drop(\"sp_dt\").drop(\"line\").drop(\"dep_ct\").drop(\"company\").drop(\"flightNum\")\n",
    "dt = dt.select(\"month\",\"arr_ct\",\"price\",\"cnt\")\n",
    "dt.show(5)"
   ]
  },
  {
   "cell_type": "code",
   "execution_count": 23,
   "metadata": {},
   "outputs": [
    {
     "name": "stdout",
     "output_type": "stream",
     "text": [
      "+-----+--------+-------+-------------+\n",
      "|month|  arr_ct|sum_arr|avg_arr_price|\n",
      "+-----+--------+-------+-------------+\n",
      "|   08|乌鲁木齐| 1504.0|      1894.25|\n",
      "|   12|    大连| 1255.0|       617.03|\n",
      "|   06|    昆明| 8416.0|       500.37|\n",
      "|   07|    昆明| 4587.0|      1120.68|\n",
      "|   05|    南昌| 2377.0|       498.64|\n",
      "+-----+--------+-------+-------------+\n",
      "only showing top 5 rows\n",
      "\n"
     ]
    }
   ],
   "source": [
    "dt_2 = dt.groupBy(\"month\",\"arr_ct\").agg({\"price\":\"sum\",\"cnt\":\"sum\"})\n",
    "dt_2 = dt_2.select(\"*\",dt_2['sum(price)']/dt_2['sum(cnt)'])\n",
    "dt_2 = dt_2.select(\"*\",f.bround(\"(sum(price) / sum(cnt))\", scale=2).alias('avg_arr_price')).drop(\"(sum(price) / sum(cnt))\").drop(\"sum(price)\")\n",
    "dt_2 = dt_2.withColumnRenamed(\"sum(cnt)\",\"sum_arr\")\n",
    "dt_2.show(5)"
   ]
  },
  {
   "cell_type": "markdown",
   "metadata": {},
   "source": [
    "#### 7月cnt乘2 8月~12月cnt乘4"
   ]
  },
  {
   "cell_type": "code",
   "execution_count": 24,
   "metadata": {},
   "outputs": [
    {
     "name": "stdout",
     "output_type": "stream",
     "text": [
      "+-----+--------+-------+-------------+-----------------+\n",
      "|month|  arr_ct|sum_arr|avg_arr_price|          new_arr|\n",
      "+-----+--------+-------+-------------+-----------------+\n",
      "|   08|乌鲁木齐| 1504.0|      1894.25|6437.120000000001|\n",
      "|   12|    大连| 1255.0|       617.03|5371.400000000001|\n",
      "|   06|    昆明| 8416.0|       500.37|           8416.0|\n",
      "|   07|    昆明| 4587.0|      1120.68|         10917.06|\n",
      "|   05|    南昌| 2377.0|       498.64|           2377.0|\n",
      "+-----+--------+-------+-------------+-----------------+\n",
      "only showing top 5 rows\n",
      "\n"
     ]
    }
   ],
   "source": [
    "dt_3 = dt_2.withColumn('new_arr',f.when(dt_2['month'] == '07',dt_2['sum_arr']*2.38).when((dt_2['month'] <= '13')& \\\n",
    "                        ('07' < dt_2['month']),dt_2['sum_arr']*4.28).otherwise(dt_2['sum_arr']))\n",
    "dt_3.show(5)"
   ]
  },
  {
   "cell_type": "code",
   "execution_count": 25,
   "metadata": {},
   "outputs": [
    {
     "name": "stdout",
     "output_type": "stream",
     "text": [
      "+-----+--------+-------------+-------+\n",
      "|month|    city|avg_arr_price|sum_arr|\n",
      "+-----+--------+-------------+-------+\n",
      "|   08|乌鲁木齐|      1894.25|   6437|\n",
      "|   12|    大连|       617.03|   5371|\n",
      "|   06|    昆明|       500.37|   8416|\n",
      "|   07|    昆明|      1120.68|  10917|\n",
      "|   05|    南昌|       498.64|   2377|\n",
      "+-----+--------+-------------+-------+\n",
      "only showing top 5 rows\n",
      "\n"
     ]
    }
   ],
   "source": [
    "# 标准化\n",
    "dt_4 = dt_3.drop(\"sum_arr\")\n",
    "dt_4 = dt_4.withColumn(\"sum_arr\", dt_4[\"new_arr\"].cast(IntegerType())).drop(\"new_arr\")\n",
    "dt_4 = dt_4.withColumnRenamed(\"arr_ct\",\"city\") # 方便合并\n",
    "dt_4.show(5)"
   ]
  },
  {
   "cell_type": "markdown",
   "metadata": {},
   "source": [
    "### 两表合并"
   ]
  },
  {
   "cell_type": "code",
   "execution_count": 26,
   "metadata": {},
   "outputs": [
    {
     "name": "stdout",
     "output_type": "stream",
     "text": [
      "+-----+----+-------------+-------+-------------+-------+\n",
      "|month|city|avg_arr_price|sum_arr|avg_dep_price|sum_dep|\n",
      "+-----+----+-------------+-------+-------------+-------+\n",
      "|   01|三亚|      2464.64|   5486|      1422.06|   6787|\n",
      "|   01|合肥|       905.17|   3655|       915.09|   3126|\n",
      "|   01|大连|      1148.26|   5164|       892.18|   4816|\n",
      "|   01|济南|      1017.53|   4672|       1071.3|   4159|\n",
      "|   01|青岛|       837.07|   5690|       903.83|   5014|\n",
      "+-----+----+-------------+-------+-------------+-------+\n",
      "only showing top 5 rows\n",
      "\n"
     ]
    }
   ],
   "source": [
    "final = dt_4.join(ds_4,[\"month\",\"city\"],\"full\")\n",
    "final = final.orderBy(\"month\")\n",
    "final.show(5)"
   ]
  },
  {
   "cell_type": "code",
   "execution_count": 28,
   "metadata": {},
   "outputs": [
    {
     "name": "stdout",
     "output_type": "stream",
     "text": [
      "+-----+----+-------------+-------------+-------+-------+-----------+\n",
      "|month|city|avg_dep_price|avg_arr_price|sum_dep|sum_arr|sum_dep_arr|\n",
      "+-----+----+-------------+-------------+-------+-------+-----------+\n",
      "|   01|三亚|      1422.06|      2464.64|   6787|   5486|      12273|\n",
      "|   01|济南|       1071.3|      1017.53|   4159|   4672|       8831|\n",
      "|   01|大连|       892.18|      1148.26|   4816|   5164|       9980|\n",
      "|   01|合肥|       915.09|       905.17|   3126|   3655|       6781|\n",
      "|   01|青岛|       903.83|       837.07|   5014|   5690|      10704|\n",
      "+-----+----+-------------+-------------+-------+-------+-----------+\n",
      "only showing top 5 rows\n",
      "\n"
     ]
    }
   ],
   "source": [
    "final = final.withColumn(\"sum_dep_arr\",f.abs(final.sum_dep+final.sum_arr))\n",
    "final = final.select(\"month\",\"city\",\"avg_dep_price\",\"avg_arr_price\",\"sum_dep\",\"sum_arr\",\"sum_dep_arr\")\n",
    "final.show(5)"
   ]
  },
  {
   "cell_type": "markdown",
   "metadata": {},
   "source": [
    "### 写数据库（city_avg_data)"
   ]
  },
  {
   "cell_type": "code",
   "execution_count": null,
   "metadata": {},
   "outputs": [],
   "source": [
    "prop = {\n",
    "    'user':'root',\n",
    "    'password':'1',\n",
    "    'driver':'com.mysql.jdbc.Driver'\n",
    "}\n",
    "url = 'jdbc:mysql://localhost:3306/flight?useUnicode=true&characterEncoding=utf8'"
   ]
  },
  {
   "cell_type": "code",
   "execution_count": null,
   "metadata": {},
   "outputs": [],
   "source": [
    "final.write.jdbc(url, 'city_avg_data', properties=prop)"
   ]
  },
  {
   "cell_type": "code",
   "execution_count": null,
   "metadata": {},
   "outputs": [],
   "source": []
  },
  {
   "cell_type": "markdown",
   "metadata": {},
   "source": [
    "## 2.全国按时间，无城市，平均到达价格-起降数"
   ]
  },
  {
   "cell_type": "code",
   "execution_count": null,
   "metadata": {},
   "outputs": [],
   "source": [
    "sd = final.withColumn(\"cnt\",f.abs(final.sum_dep-final.sum_dep+1))\n",
    "sd = sd.drop(\"sum_price\").drop(\"sum_arr\").drop(\"sum_dep\")\n",
    "sd.show(5)"
   ]
  },
  {
   "cell_type": "code",
   "execution_count": null,
   "metadata": {},
   "outputs": [],
   "source": [
    "sd_2 = sd.groupBy(\"month\").agg({\"sum_dep_arr\":\"sum\",\"cnt\":\"sum\",\"avg_arr_price\":\"sum\"})\n",
    "sd_2.show(5)"
   ]
  },
  {
   "cell_type": "code",
   "execution_count": null,
   "metadata": {},
   "outputs": [],
   "source": [
    "sd_3 = sd_2.select(\"*\",sd_2['sum(avg_arr_price)']/sd_2['sum(cnt)'])\n",
    "sd_3 = sd_3.drop('sum(avg_arr_price)').drop('sum(cnt)')\n",
    "sd_3 = sd_3.withColumnRenamed(\"(sum(avg_arr_price) / sum(cnt))\",\"avg_price\")\n",
    "sd_3 = sd_3.withColumnRenamed(\"sum(sum_dep_arr)\",\"sum_dep_arr\")\n",
    "sd_3 = sd_3.select(\"*\",f.bround(\"avg_price\", scale=2).alias(\"avg_arr_price\")).drop(\"avg_price\")\n",
    "sd_3.show(5)"
   ]
  },
  {
   "cell_type": "code",
   "execution_count": null,
   "metadata": {},
   "outputs": [],
   "source": [
    "sd_3_c = sd_3.collect()"
   ]
  },
  {
   "cell_type": "code",
   "execution_count": null,
   "metadata": {},
   "outputs": [],
   "source": [
    "sd_ans = []\n",
    "for i in range(len(sd_3_c)):\n",
    "    d = {}\n",
    "    d['month'] = sd_3_c[i][0]\n",
    "    d['sum_dep_arr'] = sd_3_c[i][1]\n",
    "    d['avg_arr_price'] = sd_3_c[i][2]\n",
    "    sd_ans.append(d)\n",
    "sd_ans"
   ]
  },
  {
   "cell_type": "markdown",
   "metadata": {},
   "source": [
    "## 3.全国按城市，无时间，平均出发/到达价格"
   ]
  },
  {
   "cell_type": "code",
   "execution_count": 29,
   "metadata": {},
   "outputs": [
    {
     "name": "stdout",
     "output_type": "stream",
     "text": [
      "+----+------------------+--------+------------------+\n",
      "|city|sum(avg_dep_price)|sum(cnt)|sum(avg_arr_price)|\n",
      "+----+------------------+--------+------------------+\n",
      "|南京| 8464.109999999999|      12|           9038.33|\n",
      "|长沙|           9052.29|      12|           8315.91|\n",
      "|沈阳|          11349.69|      12|          10938.55|\n",
      "|西安| 9132.340000000002|      12| 8548.230000000001|\n",
      "|无锡|          10449.18|      12|          10630.06|\n",
      "+----+------------------+--------+------------------+\n",
      "only showing top 5 rows\n",
      "\n"
     ]
    }
   ],
   "source": [
    "dx = final.withColumn(\"cnt\",f.abs(final.sum_dep-final.sum_dep+1))\n",
    "dx = dx.groupBy(\"city\").agg({\"avg_dep_price\":\"sum\",\"cnt\":\"sum\",\"avg_arr_price\":\"sum\"})\n",
    "dx.show(5)"
   ]
  },
  {
   "cell_type": "code",
   "execution_count": 30,
   "metadata": {},
   "outputs": [
    {
     "name": "stdout",
     "output_type": "stream",
     "text": [
      "+----+---------+---------+\n",
      "|city|arr_price|dep_price|\n",
      "+----+---------+---------+\n",
      "|南京|   753.19|   705.34|\n",
      "|长沙|   692.99|   754.36|\n",
      "|沈阳|   911.55|   945.81|\n",
      "|西安|   712.35|   761.03|\n",
      "|无锡|   885.84|   870.76|\n",
      "+----+---------+---------+\n",
      "only showing top 5 rows\n",
      "\n"
     ]
    }
   ],
   "source": [
    "dx_2 = dx.withColumn(\"avg_dep_price\",dx[\"sum(avg_dep_price)\"]/dx[\"sum(cnt)\"])\n",
    "dx_2 = dx_2.withColumn(\"avg_arr_price\",dx_2[\"sum(avg_arr_price)\"]/dx_2[\"sum(cnt)\"])\n",
    "dx_2 = dx_2.select(\"city\",f.bround(\"avg_arr_price\", scale=2).alias(\"arr_price\"),f.bround(\"avg_dep_price\", scale=2).alias(\"dep_price\"))\n",
    "dx_2.show(5)"
   ]
  },
  {
   "cell_type": "markdown",
   "metadata": {},
   "source": [
    "### 出发"
   ]
  },
  {
   "cell_type": "code",
   "execution_count": 31,
   "metadata": {},
   "outputs": [
    {
     "name": "stdout",
     "output_type": "stream",
     "text": [
      "+--------+---------+---------+\n",
      "|    city|arr_price|dep_price|\n",
      "+--------+---------+---------+\n",
      "|乌鲁木齐|  1367.75|  1395.44|\n",
      "|    拉萨|  1262.04|  1378.31|\n",
      "|    三亚|  1109.39|  1074.34|\n",
      "|    北京|  1092.69|  1071.02|\n",
      "|  哈尔滨|   991.06|   989.54|\n",
      "+--------+---------+---------+\n",
      "only showing top 5 rows\n",
      "\n"
     ]
    }
   ],
   "source": [
    "dx_d = dx_2.orderBy(-dx_2[\"dep_price\"])\n",
    "dx_d_c = dx_d.collect()\n",
    "dx_d.show(5)"
   ]
  },
  {
   "cell_type": "code",
   "execution_count": 32,
   "metadata": {},
   "outputs": [
    {
     "data": {
      "text/plain": [
       "[{'city': '乌鲁木齐', 'price': 1395.44},\n",
       " {'city': '拉萨', 'price': 1378.31},\n",
       " {'city': '三亚', 'price': 1074.34},\n",
       " {'city': '北京', 'price': 1071.02},\n",
       " {'city': '哈尔滨', 'price': 989.54},\n",
       " {'city': '长春', 'price': 972.69},\n",
       " {'city': '沈阳', 'price': 945.81},\n",
       " {'city': '深圳', 'price': 929.26},\n",
       " {'city': '广州', 'price': 923.63},\n",
       " {'city': '西宁', 'price': 912.55},\n",
       " {'city': '成都', 'price': 909.84},\n",
       " {'city': '无锡', 'price': 870.76},\n",
       " {'city': '上海', 'price': 858.66},\n",
       " {'city': '兰州', 'price': 857.99},\n",
       " {'city': '呼和浩特', 'price': 851.74},\n",
       " {'city': '济南', 'price': 837.05},\n",
       " {'city': '扬州', 'price': 835.91},\n",
       " {'city': '昆明', 'price': 834.59},\n",
       " {'city': '福州', 'price': 829.44},\n",
       " {'city': '武汉', 'price': 821.6},\n",
       " {'city': '海口', 'price': 819.22},\n",
       " {'city': '天津', 'price': 801.85},\n",
       " {'city': '珠海', 'price': 795.58},\n",
       " {'city': '银川', 'price': 790.52},\n",
       " {'city': '贵阳', 'price': 786.3},\n",
       " {'city': '太原', 'price': 785.32},\n",
       " {'city': '大连', 'price': 783.58},\n",
       " {'city': '郑州', 'price': 764.51},\n",
       " {'city': '西安', 'price': 761.03},\n",
       " {'city': '长沙', 'price': 754.36},\n",
       " {'city': '厦门', 'price': 752.26},\n",
       " {'city': '青岛', 'price': 748.16},\n",
       " {'city': '杭州', 'price': 739.15},\n",
       " {'city': '石家庄', 'price': 725.45},\n",
       " {'city': '泉州', 'price': 719.5},\n",
       " {'city': '温州', 'price': 718.58},\n",
       " {'city': '合肥', 'price': 715.46},\n",
       " {'city': '重庆', 'price': 709.19},\n",
       " {'city': '南京', 'price': 705.34},\n",
       " {'city': '南宁', 'price': 696.34},\n",
       " {'city': '桂林', 'price': 679.72},\n",
       " {'city': '南昌', 'price': 677.55}]"
      ]
     },
     "execution_count": 32,
     "metadata": {},
     "output_type": "execute_result"
    }
   ],
   "source": [
    "dx_ans_dep = []\n",
    "for i in range(42):\n",
    "    d = {}\n",
    "    d['city'] = dx_d_c[i][0]\n",
    "    d['price'] = dx_d_c[i][2]\n",
    "    dx_ans_dep.append(d)\n",
    "dx_ans_dep"
   ]
  },
  {
   "cell_type": "code",
   "execution_count": null,
   "metadata": {},
   "outputs": [],
   "source": []
  },
  {
   "cell_type": "markdown",
   "metadata": {},
   "source": [
    "### 到达"
   ]
  },
  {
   "cell_type": "code",
   "execution_count": 33,
   "metadata": {},
   "outputs": [
    {
     "name": "stdout",
     "output_type": "stream",
     "text": [
      "+--------+---------+---------+\n",
      "|    city|arr_price|dep_price|\n",
      "+--------+---------+---------+\n",
      "|乌鲁木齐|  1367.75|  1395.44|\n",
      "|    拉萨|  1262.04|  1378.31|\n",
      "|    三亚|  1109.39|  1074.34|\n",
      "|    北京|  1092.69|  1071.02|\n",
      "|    深圳|   993.53|   929.26|\n",
      "+--------+---------+---------+\n",
      "only showing top 5 rows\n",
      "\n"
     ]
    }
   ],
   "source": [
    "dx_a = dx_2.orderBy(-dx_2[\"arr_price\"])\n",
    "dx_a_c = dx_a.collect()\n",
    "dx_a.show(5)"
   ]
  },
  {
   "cell_type": "code",
   "execution_count": 34,
   "metadata": {},
   "outputs": [
    {
     "data": {
      "text/plain": [
       "[{'city': '乌鲁木齐', 'price': 1367.75},\n",
       " {'city': '拉萨', 'price': 1262.04},\n",
       " {'city': '三亚', 'price': 1109.39},\n",
       " {'city': '北京', 'price': 1092.69},\n",
       " {'city': '深圳', 'price': 993.53},\n",
       " {'city': '哈尔滨', 'price': 991.06},\n",
       " {'city': '广州', 'price': 960.16},\n",
       " {'city': '西宁', 'price': 958.36},\n",
       " {'city': '长春', 'price': 953.88},\n",
       " {'city': '沈阳', 'price': 911.55},\n",
       " {'city': '扬州', 'price': 906.31},\n",
       " {'city': '上海', 'price': 888.33},\n",
       " {'city': '无锡', 'price': 885.84},\n",
       " {'city': '海口', 'price': 871.7},\n",
       " {'city': '成都', 'price': 861.31},\n",
       " {'city': '呼和浩特', 'price': 858.5},\n",
       " {'city': '昆明', 'price': 848.92},\n",
       " {'city': '福州', 'price': 842.4},\n",
       " {'city': '珠海', 'price': 828.32},\n",
       " {'city': '天津', 'price': 812.9},\n",
       " {'city': '武汉', 'price': 795.23},\n",
       " {'city': '厦门', 'price': 791.76},\n",
       " {'city': '杭州', 'price': 789.72},\n",
       " {'city': '济南', 'price': 787.51},\n",
       " {'city': '兰州', 'price': 760.88},\n",
       " {'city': '大连', 'price': 760.6},\n",
       " {'city': '泉州', 'price': 755.01},\n",
       " {'city': '南京', 'price': 753.19},\n",
       " {'city': '南宁', 'price': 744.24},\n",
       " {'city': '青岛', 'price': 743.58},\n",
       " {'city': '温州', 'price': 731.0},\n",
       " {'city': '银川', 'price': 729.29},\n",
       " {'city': '太原', 'price': 726.58},\n",
       " {'city': '贵阳', 'price': 718.95},\n",
       " {'city': '西安', 'price': 712.35},\n",
       " {'city': '合肥', 'price': 701.73},\n",
       " {'city': '重庆', 'price': 698.72},\n",
       " {'city': '长沙', 'price': 692.99},\n",
       " {'city': '桂林', 'price': 692.8},\n",
       " {'city': '郑州', 'price': 683.08},\n",
       " {'city': '石家庄', 'price': 656.67},\n",
       " {'city': '南昌', 'price': 623.05}]"
      ]
     },
     "execution_count": 34,
     "metadata": {},
     "output_type": "execute_result"
    }
   ],
   "source": [
    "dx_ans_arr = []\n",
    "for i in range(42):\n",
    "    d = {}\n",
    "    d['city'] = dx_a_c[i][0]\n",
    "    d['price'] = dx_a_c[i][1]\n",
    "    dx_ans_arr.append(d)\n",
    "dx_ans_arr"
   ]
  },
  {
   "cell_type": "code",
   "execution_count": null,
   "metadata": {},
   "outputs": [],
   "source": []
  },
  {
   "cell_type": "markdown",
   "metadata": {},
   "source": [
    "## 4.城市在1月到7月每10天的平均(到达)机票价格 "
   ]
  },
  {
   "cell_type": "markdown",
   "metadata": {},
   "source": [
    "### 城市—价格列表<时间，价格>(每月的5号，15号，25号)"
   ]
  },
  {
   "cell_type": "code",
   "execution_count": 5,
   "metadata": {},
   "outputs": [
    {
     "name": "stdout",
     "output_type": "stream",
     "text": [
      "+------+------+--------+---------+---------------+----------+-----+\n",
      "|arr_ct|dep_ct| company|flightNum|           line| flight_dt|price|\n",
      "+------+------+--------+---------+---------------+----------+-----+\n",
      "|  三亚|  上海|吉祥航空|   HO1129|吉祥航空-HO1129|2019-09-12|730.0|\n",
      "|  三亚|  重庆|四川航空|   3U8715|四川航空-3U8715|2019-09-12|560.0|\n",
      "|  三亚|  济南|山东航空|   SC4751|山东航空-SC4751|2019-09-13|640.0|\n",
      "+------+------+--------+---------+---------------+----------+-----+\n",
      "only showing top 3 rows\n",
      "\n"
     ]
    }
   ],
   "source": [
    "da.show(3)"
   ]
  },
  {
   "cell_type": "code",
   "execution_count": 37,
   "metadata": {},
   "outputs": [
    {
     "name": "stdout",
     "output_type": "stream",
     "text": [
      "+------+----------+-----+--------------+\n",
      "|arr_ct| flight_dt|price|         sp_tm|\n",
      "+------+----------+-----+--------------+\n",
      "|  三亚|2019-09-12|730.0|[2019, 09, 12]|\n",
      "|  三亚|2019-09-12|560.0|[2019, 09, 12]|\n",
      "|  三亚|2019-09-13|640.0|[2019, 09, 13]|\n",
      "|  三亚|2019-09-21|530.0|[2019, 09, 21]|\n",
      "|  三亚|2019-09-12|530.0|[2019, 09, 12]|\n",
      "+------+----------+-----+--------------+\n",
      "only showing top 5 rows\n",
      "\n"
     ]
    }
   ],
   "source": [
    "da_2 = da.select(\"arr_ct\",\"flight_dt\",\"price\",f.split(df.flight_dt,\"-\").alias(\"sp_tm\"))\n",
    "da_2.show(5)"
   ]
  },
  {
   "cell_type": "code",
   "execution_count": 38,
   "metadata": {},
   "outputs": [
    {
     "name": "stdout",
     "output_type": "stream",
     "text": [
      "+------+-----+----------+--------------+----+\n",
      "|arr_ct|price| flight_dt|         sp_dt|cnnt|\n",
      "+------+-----+----------+--------------+----+\n",
      "|  三亚|730.0|2019-09-12|[2019, 09, 12]| 1.0|\n",
      "|  三亚|560.0|2019-09-12|[2019, 09, 12]| 1.0|\n",
      "|  三亚|640.0|2019-09-13|[2019, 09, 13]| 1.0|\n",
      "|  三亚|530.0|2019-09-21|[2019, 09, 21]| 1.0|\n",
      "|  三亚|530.0|2019-09-12|[2019, 09, 12]| 1.0|\n",
      "+------+-----+----------+--------------+----+\n",
      "only showing top 5 rows\n",
      "\n"
     ]
    }
   ],
   "source": [
    "da_3 = da_2.select(\"arr_ct\",\"price\",\"flight_dt\",f.split(da_2.flight_dt,\"-\").alias(\"sp_dt\"))\n",
    "da_3 = da_3.withColumn(\"cnnt\",f.abs(da_3.price-da_3.price+1))\n",
    "da_3.show(5)"
   ]
  },
  {
   "cell_type": "code",
   "execution_count": 39,
   "metadata": {},
   "outputs": [
    {
     "name": "stdout",
     "output_type": "stream",
     "text": [
      "+------+-----+----------+----+----+-----+---+\n",
      "|arr_ct|price| flight_dt|cnnt|year|month|day|\n",
      "+------+-----+----------+----+----+-----+---+\n",
      "|  三亚|730.0|2019-09-12| 1.0|2019|   09| 12|\n",
      "|  三亚|560.0|2019-09-12| 1.0|2019|   09| 12|\n",
      "|  三亚|640.0|2019-09-13| 1.0|2019|   09| 13|\n",
      "|  三亚|530.0|2019-09-21| 1.0|2019|   09| 21|\n",
      "|  三亚|530.0|2019-09-12| 1.0|2019|   09| 12|\n",
      "+------+-----+----------+----+----+-----+---+\n",
      "only showing top 5 rows\n",
      "\n"
     ]
    }
   ],
   "source": [
    "da_4 = da_3.withColumn('year',da_3[\"sp_dt\"].getItem(0)).drop(\"line\")\n",
    "da_4 = da_4.withColumn('month',da_4[\"sp_dt\"].getItem(1))\n",
    "da_4 = da_4.withColumn('day',da_4[\"sp_dt\"].getItem(2)).drop(\"sp_dt\")\n",
    "da_4.show(5)"
   ]
  },
  {
   "cell_type": "markdown",
   "metadata": {},
   "source": [
    "#### 分类处理"
   ]
  },
  {
   "cell_type": "code",
   "execution_count": 40,
   "metadata": {},
   "outputs": [
    {
     "name": "stdout",
     "output_type": "stream",
     "text": [
      "+------+------+----------+----+----+-----+---+----+\n",
      "|arr_ct| price| flight_dt|cnnt|year|month|day|flag|\n",
      "+------+------+----------+----+----+-----+---+----+\n",
      "|  三亚| 250.0|2020-05-25| 1.0|2020|   05| 25|   2|\n",
      "|  厦门| 360.0|2020-06-20| 1.0|2020|   06| 20|   2|\n",
      "|  大连|2345.0|2020-01-14| 1.0|2020|   01| 14|   1|\n",
      "|  太原|1050.0|2020-01-30| 1.0|2020|   01| 30|   3|\n",
      "|  成都| 920.0|2020-01-13| 1.0|2020|   01| 13|   1|\n",
      "+------+------+----------+----+----+-----+---+----+\n",
      "only showing top 5 rows\n",
      "\n"
     ]
    }
   ],
   "source": [
    "dq = da_4.filter(da_4['year'] == '2020')\n",
    "dq = dq.withColumn(\"flag\", dq[\"day\"].cast(IntegerType()))\n",
    "dq = dq.withColumn(\"flag\", dq[\"flag\"]/10)\n",
    "dq = dq.withColumn(\"flag\", dq[\"flag\"].cast(IntegerType()))\n",
    "dq.show(5)"
   ]
  },
  {
   "cell_type": "code",
   "execution_count": 10,
   "metadata": {},
   "outputs": [
    {
     "name": "stdout",
     "output_type": "stream",
     "text": [
      "+------+------+----------+----+----+-----+--------+\n",
      "|arr_ct| price| flight_dt|cnnt|year|month|new_date|\n",
      "+------+------+----------+----+----+-----+--------+\n",
      "|  三亚| 250.0|2020-05-25| 1.0|2020|   05|      25|\n",
      "|  厦门| 360.0|2020-06-20| 1.0|2020|   06|      25|\n",
      "|  大连|2345.0|2020-01-14| 1.0|2020|   01|      15|\n",
      "|  太原|1050.0|2020-01-30| 1.0|2020|   01|      25|\n",
      "|  成都| 920.0|2020-01-13| 1.0|2020|   01|      15|\n",
      "+------+------+----------+----+----+-----+--------+\n",
      "only showing top 5 rows\n",
      "\n"
     ]
    }
   ],
   "source": [
    "dq_2 = dq.withColumn('new_date',f.when(dq['flag'] == 0,\"05\").when(dq['flag'] == 1,\"15\").\\\n",
    "                        when(dq['flag'] == 2,\"25\").otherwise(\"25\"))\n",
    "dq_2 = dq_2.drop(\"flag\").drop(\"day\")\n",
    "dq_2.show(5)"
   ]
  },
  {
   "cell_type": "code",
   "execution_count": 11,
   "metadata": {
    "scrolled": true
   },
   "outputs": [
    {
     "name": "stdout",
     "output_type": "stream",
     "text": [
      "+------+------+----------+----+--------+----------+\n",
      "|arr_ct| price| flight_dt|cnnt|new_date|      time|\n",
      "+------+------+----------+----+--------+----------+\n",
      "|  三亚| 250.0|2020-05-25| 1.0|      25|2020-05-25|\n",
      "|  厦门| 360.0|2020-06-20| 1.0|      25|2020-06-25|\n",
      "|  大连|2345.0|2020-01-14| 1.0|      15|2020-01-15|\n",
      "|  太原|1050.0|2020-01-30| 1.0|      25|2020-01-25|\n",
      "|  成都| 920.0|2020-01-13| 1.0|      15|2020-01-15|\n",
      "+------+------+----------+----+--------+----------+\n",
      "only showing top 5 rows\n",
      "\n"
     ]
    }
   ],
   "source": [
    "dq_3 = dq_2.withColumn(\"time\", f.concat_ws('-',dq_2['year'],dq_2['month'],dq_2['new_date']))\n",
    "dq_3 = dq_3.drop(\"month\").drop(\"year\")\n",
    "dq_3.show(5)"
   ]
  },
  {
   "cell_type": "markdown",
   "metadata": {},
   "source": [
    "#### 选择1月25日~6月15日"
   ]
  },
  {
   "cell_type": "code",
   "execution_count": 12,
   "metadata": {},
   "outputs": [
    {
     "name": "stdout",
     "output_type": "stream",
     "text": [
      "+------+------+----------+----+--------+----------+\n",
      "|arr_ct| price| flight_dt|cnnt|new_date|      time|\n",
      "+------+------+----------+----+--------+----------+\n",
      "|  三亚| 250.0|2020-05-25| 1.0|      25|2020-05-25|\n",
      "|  太原|1050.0|2020-01-30| 1.0|      25|2020-01-25|\n",
      "|  昆明| 410.0|2020-06-15| 1.0|      15|2020-06-15|\n",
      "|  昆明| 260.0|2020-06-15| 1.0|      15|2020-06-15|\n",
      "|  杭州| 660.0|2020-03-19| 1.0|      15|2020-03-15|\n",
      "+------+------+----------+----+--------+----------+\n",
      "only showing top 5 rows\n",
      "\n"
     ]
    }
   ],
   "source": [
    "dq_4 = dq_3.filter( (\"2020-01-24\"<dq_3[\"time\"]) & (dq_3[\"time\"]<\"2020-06-16\") )\n",
    "dq_4.show(5)"
   ]
  },
  {
   "cell_type": "code",
   "execution_count": 13,
   "metadata": {},
   "outputs": [
    {
     "name": "stdout",
     "output_type": "stream",
     "text": [
      "+----------+------+----------+---------+\n",
      "|      time|arr_ct|sum(price)|sum(cnnt)|\n",
      "+----------+------+----------+---------+\n",
      "|2020-05-25|  重庆| 1156915.0|   2584.0|\n",
      "|2020-06-05|  合肥|  375059.0|    785.0|\n",
      "|2020-01-25|  北京| 8638024.0|   6862.0|\n",
      "|2020-05-25|  南昌|  359612.0|    754.0|\n",
      "|2020-03-25|  厦门| 1136901.0|   1836.0|\n",
      "+----------+------+----------+---------+\n",
      "only showing top 5 rows\n",
      "\n"
     ]
    }
   ],
   "source": [
    "dq_5 = dq_4.drop(\"flag\")\n",
    "dq_5 = dq_5.groupBy(\"time\",\"arr_ct\").agg({\"cnnt\":\"sum\",\"price\":\"sum\"})\n",
    "dq_5.show(5)"
   ]
  },
  {
   "cell_type": "code",
   "execution_count": 14,
   "metadata": {},
   "outputs": [
    {
     "name": "stdout",
     "output_type": "stream",
     "text": [
      "+----------+------+---------+\n",
      "|      time|arr_ct|avg_price|\n",
      "+----------+------+---------+\n",
      "|2020-05-25|  重庆|   447.72|\n",
      "|2020-06-05|  合肥|   477.78|\n",
      "|2020-01-25|  北京|  1258.82|\n",
      "|2020-05-25|  南昌|   476.94|\n",
      "|2020-03-25|  厦门|   619.23|\n",
      "+----------+------+---------+\n",
      "only showing top 5 rows\n",
      "\n"
     ]
    }
   ],
   "source": [
    "dq_6 = dq_5.select(\"*\",dq_5['sum(price)']/dq_5['sum(cnnt)'])\n",
    "dq_6 = dq_6.drop('sum(price)').drop('sum(cnnt)')\n",
    "dq_6 = dq_6.select(\"*\",f.bround(\"(sum(price) / sum(cnnt))\", scale=2).alias('avg_price')).drop(\"(sum(price) / sum(cnnt))\")\n",
    "dq_6.show(5)"
   ]
  },
  {
   "cell_type": "code",
   "execution_count": 16,
   "metadata": {},
   "outputs": [
    {
     "data": {
      "text/plain": [
       "Row(time='2020-05-15', arr_ct='三亚', avg_price=556.66)"
      ]
     },
     "execution_count": 16,
     "metadata": {},
     "output_type": "execute_result"
    }
   ],
   "source": [
    "dq_6 = dq_6.orderBy(\"arr_ct\")\n",
    "dqc = dq_6.collect()\n",
    "dqc[0]"
   ]
  },
  {
   "cell_type": "code",
   "execution_count": 18,
   "metadata": {},
   "outputs": [],
   "source": [
    "qDict = {}\n",
    "for i in range(len(dqc)) :\n",
    "    if dqc[i][1] not in qDict:\n",
    "        qDict[dqc[i][1]] = {dqc[i][0]:dqc[i][2]}\n",
    "    else :\n",
    "        qDict[dqc[i][1]][dqc[i][0]] = dqc[i][2]\n",
    "    \n",
    "for a in qDict :\n",
    "    qDict[a] = sorted(qDict[a].items(),key=lambda item:item[0], reverse=False)"
   ]
  },
  {
   "cell_type": "code",
   "execution_count": 19,
   "metadata": {},
   "outputs": [
    {
     "data": {
      "text/plain": [
       "[('2020-01-25', 2887.94),\n",
       " ('2020-02-05', 1133.59),\n",
       " ('2020-02-15', 1019.29),\n",
       " ('2020-02-25', 760.64),\n",
       " ('2020-03-05', 580.97),\n",
       " ('2020-03-15', 537.0),\n",
       " ('2020-03-25', 489.96),\n",
       " ('2020-04-05', 558.73),\n",
       " ('2020-04-15', 567.85),\n",
       " ('2020-04-25', 553.28),\n",
       " ('2020-05-05', 565.74),\n",
       " ('2020-05-15', 556.66),\n",
       " ('2020-05-25', 517.29),\n",
       " ('2020-06-05', 490.22),\n",
       " ('2020-06-15', 562.07)]"
      ]
     },
     "execution_count": 19,
     "metadata": {},
     "output_type": "execute_result"
    }
   ],
   "source": [
    "qDict['三亚']"
   ]
  },
  {
   "cell_type": "code",
   "execution_count": 21,
   "metadata": {},
   "outputs": [],
   "source": [
    "def qtoDB(Dict):\n",
    "    final_Dict = []\n",
    "    for key in Dict :\n",
    "        td = {}\n",
    "        td['city'] = key\n",
    "        tl = []\n",
    "        for s in range(len(Dict[key])):\n",
    "            st = Dict[key][s][0] + '|' + f\"{Dict[key][s][1]}\"\n",
    "            tl.append(st)\n",
    "        td[\"min_price_list\"] = f'{tl}'\n",
    "        final_Dict.append(td)\n",
    "    return final_Dict\n",
    "qAns = qtoDB(qDict)"
   ]
  },
  {
   "cell_type": "code",
   "execution_count": 23,
   "metadata": {},
   "outputs": [
    {
     "data": {
      "text/plain": [
       "{'city': '三亚',\n",
       " 'min_price_list': \"['2020-01-25|2887.94', '2020-02-05|1133.59', '2020-02-15|1019.29', '2020-02-25|760.64', '2020-03-05|580.97', '2020-03-15|537.0', '2020-03-25|489.96', '2020-04-05|558.73', '2020-04-15|567.85', '2020-04-25|553.28', '2020-05-05|565.74', '2020-05-15|556.66', '2020-05-25|517.29', '2020-06-05|490.22', '2020-06-15|562.07']\"}"
      ]
     },
     "execution_count": 23,
     "metadata": {},
     "output_type": "execute_result"
    }
   ],
   "source": [
    "qAns[0]"
   ]
  },
  {
   "cell_type": "markdown",
   "metadata": {},
   "source": [
    "### 写数据库(city_tenday_data)"
   ]
  },
  {
   "cell_type": "code",
   "execution_count": 27,
   "metadata": {},
   "outputs": [],
   "source": [
    "json_str = json.dumps(qAns,ensure_ascii=False)\n",
    "with open('tmp_tenday_toDB.json', 'w',encoding='utf-8') as json_file:\n",
    "    json_file.write(json_str)"
   ]
  },
  {
   "cell_type": "code",
   "execution_count": 28,
   "metadata": {},
   "outputs": [
    {
     "name": "stdout",
     "output_type": "stream",
     "text": [
      "+--------+--------------------+\n",
      "|    city|      min_price_list|\n",
      "+--------+--------------------+\n",
      "|    三亚|['2020-01-25|2887...|\n",
      "|    上海|['2020-01-25|950....|\n",
      "|乌鲁木齐|['2020-01-25|1997...|\n",
      "|    兰州|['2020-01-25|1307...|\n",
      "|    北京|['2020-01-25|1258...|\n",
      "+--------+--------------------+\n",
      "only showing top 5 rows\n",
      "\n"
     ]
    }
   ],
   "source": [
    "dq_r = spark.read.json('tmp_tenday_toDB.json')\n",
    "dq_r.show(5)"
   ]
  },
  {
   "cell_type": "code",
   "execution_count": 29,
   "metadata": {},
   "outputs": [],
   "source": [
    "prop = {\n",
    "    'user':'root',\n",
    "    'password':'1',\n",
    "    'driver':'com.mysql.jdbc.Driver'\n",
    "}\n",
    "url = 'jdbc:mysql://localhost:3306/flight?useUnicode=true&characterEncoding=utf8'"
   ]
  },
  {
   "cell_type": "code",
   "execution_count": 30,
   "metadata": {},
   "outputs": [],
   "source": [
    "dq_r.write.jdbc(url, 'city_tenday_data', properties=prop)"
   ]
  },
  {
   "cell_type": "markdown",
   "metadata": {},
   "source": [
    "## 5.每月全国航班数量/平均到达价格"
   ]
  },
  {
   "cell_type": "code",
   "execution_count": 18,
   "metadata": {},
   "outputs": [
    {
     "name": "stdout",
     "output_type": "stream",
     "text": [
      "+-----+----+-------------+-----------+---+\n",
      "|month|city|avg_arr_price|sum_dep_arr|cnt|\n",
      "+-----+----+-------------+-----------+---+\n",
      "|   01|三亚|      2464.64|      12273|  1|\n",
      "|   01|济南|      1017.53|       8831|  1|\n",
      "|   01|大连|      1148.26|       9980|  1|\n",
      "|   01|合肥|       905.17|       6781|  1|\n",
      "|   01|青岛|       837.07|      10704|  1|\n",
      "+-----+----+-------------+-----------+---+\n",
      "only showing top 5 rows\n",
      "\n"
     ]
    }
   ],
   "source": [
    "dw = final.withColumn(\"cnt\",f.abs(final.sum_dep-final.sum_dep+1))\n",
    "dw = dw.drop(\"sum_price\").drop(\"sum_arr\").drop(\"sum_dep\").drop(\"avg_dep_price\")\n",
    "dw.show(5)"
   ]
  },
  {
   "cell_type": "code",
   "execution_count": 19,
   "metadata": {},
   "outputs": [
    {
     "name": "stdout",
     "output_type": "stream",
     "text": [
      "+-----+----------------+--------+------------------+\n",
      "|month|sum(sum_dep_arr)|sum(cnt)|sum(avg_arr_price)|\n",
      "+-----+----------------+--------+------------------+\n",
      "|   01|          516996|      42|          48229.67|\n",
      "|   02|          212844|      42| 43266.84000000001|\n",
      "|   03|          344908|      42|          27380.04|\n",
      "|   04|          298806|      42|          26767.96|\n",
      "|   05|          331352|      42|          23013.86|\n",
      "+-----+----------------+--------+------------------+\n",
      "only showing top 5 rows\n",
      "\n"
     ]
    }
   ],
   "source": [
    "dw_2 = dw.groupBy(\"month\").agg({\"sum_dep_arr\":\"sum\",\"cnt\":\"sum\",\"avg_arr_price\":\"sum\"})\n",
    "dw_2.show(5)"
   ]
  },
  {
   "cell_type": "code",
   "execution_count": 20,
   "metadata": {},
   "outputs": [
    {
     "name": "stdout",
     "output_type": "stream",
     "text": [
      "+-----+-----------+-------------+\n",
      "|month|sum_dep_arr|avg_arr_price|\n",
      "+-----+-----------+-------------+\n",
      "|   01|     516996|      1148.33|\n",
      "|   02|     212844|      1030.16|\n",
      "|   03|     344908|       651.91|\n",
      "|   04|     298806|       637.33|\n",
      "|   05|     331352|       547.95|\n",
      "+-----+-----------+-------------+\n",
      "only showing top 5 rows\n",
      "\n"
     ]
    }
   ],
   "source": [
    "dw_3 = dw_2.select(\"*\",dw_2['sum(avg_arr_price)']/dw_2['sum(cnt)'])\n",
    "dw_3 = dw_3.drop('sum(avg_arr_price)').drop('sum(cnt)')\n",
    "dw_3 = dw_3.withColumnRenamed(\"(sum(avg_arr_price) / sum(cnt))\",\"avg_price\")\n",
    "dw_3 = dw_3.withColumnRenamed(\"sum(sum_dep_arr)\",\"sum_dep_arr\")\n",
    "dw_3 = dw_3.select(\"*\",f.bround(\"avg_price\", scale=2).alias(\"avg_arr_price\")).drop(\"avg_price\")\n",
    "dw_3.show(5)"
   ]
  },
  {
   "cell_type": "code",
   "execution_count": 21,
   "metadata": {},
   "outputs": [],
   "source": [
    "dw_c = dw_3.collect()"
   ]
  },
  {
   "cell_type": "code",
   "execution_count": 23,
   "metadata": {},
   "outputs": [
    {
     "data": {
      "text/plain": [
       "[{'month': '01', 'sum_dep_arr': 516996, 'avg_arr_price': 1148.33},\n",
       " {'month': '02', 'sum_dep_arr': 212844, 'avg_arr_price': 1030.16},\n",
       " {'month': '03', 'sum_dep_arr': 344908, 'avg_arr_price': 651.91},\n",
       " {'month': '04', 'sum_dep_arr': 298806, 'avg_arr_price': 637.33},\n",
       " {'month': '05', 'sum_dep_arr': 331352, 'avg_arr_price': 547.95},\n",
       " {'month': '06', 'sum_dep_arr': 446988, 'avg_arr_price': 512.52},\n",
       " {'month': '07', 'sum_dep_arr': 549283, 'avg_arr_price': 1020.82},\n",
       " {'month': '08', 'sum_dep_arr': 521224, 'avg_arr_price': 1200.85},\n",
       " {'month': '09', 'sum_dep_arr': 682952, 'avg_arr_price': 845.36},\n",
       " {'month': '10', 'sum_dep_arr': 533777, 'avg_arr_price': 909.0},\n",
       " {'month': '11', 'sum_dep_arr': 508787, 'avg_arr_price': 805.0},\n",
       " {'month': '12', 'sum_dep_arr': 523050, 'avg_arr_price': 763.31}]"
      ]
     },
     "execution_count": 23,
     "metadata": {},
     "output_type": "execute_result"
    }
   ],
   "source": [
    "wDict = []\n",
    "for i in range(len(dw_c)):\n",
    "    d = {}\n",
    "    d['month'] = dw_c[i][0]\n",
    "    d['sum_dep_arr'] = dw_c[i][1]\n",
    "    d['avg_arr_price'] = dw_c[i][2]\n",
    "    wDict.append(d)\n",
    "wDict"
   ]
  },
  {
   "cell_type": "markdown",
   "metadata": {},
   "source": [
    "## 6.一天内不同时间的机票平均价格"
   ]
  },
  {
   "cell_type": "code",
   "execution_count": 24,
   "metadata": {},
   "outputs": [
    {
     "name": "stdout",
     "output_type": "stream",
     "text": [
      "+------+------+---------+--------+------+------+---------+-----------+---------+----------+--------+-----------+-----+----------+--------------------+\n",
      "|arr_ap|arr_ct|   arr_tm| company|dep_ap|dep_ct|   dep_tm|   discount|flightNum| flight_dt|plane_sz| plane_type|price|    qry_dt|            rec_uuid|\n",
      "+------+------+---------+--------+------+------+---------+-----------+---------+----------+--------+-----------+-----+----------+--------------------+\n",
      "|      |  三亚| 00:00:00|吉祥航空|      |  上海| 00:00:00|3.1折经济舱|   HO1129|2019-09-12|      中|   空客A321|730.0|2019-09-11|2c0f8dab-56ff-4ea...|\n",
      "|      |  三亚| 00:00:00|四川航空|      |  重庆| 00:00:00|3.1折经济舱|   3U8715|2019-09-12|      中|   空客A320|560.0|2019-09-11|7f3ff21f-5d3a-4a0...|\n",
      "|      |  三亚| 00:00:00|山东航空|      |  济南| 00:00:00|2.3折经济舱|   SC4751|2019-09-13|      中|波音737-800|640.0|2019-09-12|cc08d14f-f89d-4eb...|\n",
      "+------+------+---------+--------+------+------+---------+-----------+---------+----------+--------+-----------+-----+----------+--------------------+\n",
      "only showing top 3 rows\n",
      "\n"
     ]
    }
   ],
   "source": [
    "df.show(3)"
   ]
  },
  {
   "cell_type": "code",
   "execution_count": 30,
   "metadata": {},
   "outputs": [
    {
     "name": "stdout",
     "output_type": "stream",
     "text": [
      "+---------+-----+----+\n",
      "|   dep_tm|price|time|\n",
      "+---------+-----+----+\n",
      "| 00:00:00|730.0|  00|\n",
      "| 00:00:00|560.0|  00|\n",
      "| 00:00:00|640.0|  00|\n",
      "| 00:00:00|530.0|  00|\n",
      "| 00:00:00|530.0|  00|\n",
      "+---------+-----+----+\n",
      "only showing top 5 rows\n",
      "\n"
     ]
    }
   ],
   "source": [
    "dr = df.select(\"dep_tm\",\"price\",f.split(df.dep_tm,\":\").alias(\"sp_tm\"))\n",
    "dr = dr.withColumn('time',dr[\"sp_tm\"].getItem(0)).drop(\"sp_tm\")\n",
    "dr.show(5)"
   ]
  },
  {
   "cell_type": "code",
   "execution_count": 31,
   "metadata": {},
   "outputs": [
    {
     "name": "stdout",
     "output_type": "stream",
     "text": [
      "+----+-----------+--------+\n",
      "|time| sum(price)|sum(cnt)|\n",
      "+----+-----------+--------+\n",
      "|  23|1.2357108E7| 22497.0|\n",
      "|  12| 8.417455E7| 97857.0|\n",
      "|  11|8.3693771E7| 94780.0|\n",
      "|  16|8.3434657E7| 98234.0|\n",
      "|  08| 8.685301E7|101798.0|\n",
      "+----+-----------+--------+\n",
      "only showing top 5 rows\n",
      "\n"
     ]
    }
   ],
   "source": [
    "dr_2 = dr.withColumn(\"cnt\",f.abs(dr.price-dr.price+1))\n",
    "dr_2 = dr_2.groupBy(\"time\").agg({\"price\":\"sum\",\"cnt\":\"sum\"})\n",
    "dr_2.show(5)"
   ]
  },
  {
   "cell_type": "code",
   "execution_count": 32,
   "metadata": {},
   "outputs": [
    {
     "name": "stdout",
     "output_type": "stream",
     "text": [
      "+----+---------+\n",
      "|time|avg_price|\n",
      "+----+---------+\n",
      "|  23|   549.28|\n",
      "|  12|   860.18|\n",
      "|  11|   883.03|\n",
      "|  16|   849.35|\n",
      "|  08|   853.19|\n",
      "+----+---------+\n",
      "only showing top 5 rows\n",
      "\n"
     ]
    }
   ],
   "source": [
    "dr_3 = dr_2.select(\"*\",dr_2['sum(price)']/dr_2['sum(cnt)'])\n",
    "dr_3 = dr_3.drop('sum(price)').drop('sum(cnt)')\n",
    "dr_3 = dr_3.select(\"*\",f.bround(\"(sum(price) / sum(cnt))\", scale=2).alias('avg_price')).drop(\"(sum(price) / sum(cnt))\")\n",
    "dr_3.show(5)"
   ]
  },
  {
   "cell_type": "code",
   "execution_count": 33,
   "metadata": {},
   "outputs": [],
   "source": [
    "dr_4 = dr_3.orderBy(\"time\")\n",
    "drc = dr_4.collect()"
   ]
  },
  {
   "cell_type": "code",
   "execution_count": 35,
   "metadata": {},
   "outputs": [
    {
     "data": {
      "text/plain": [
       "[{'tm': ' 00', 'p': 810.85},\n",
       " {'tm': ' 01', 'p': 903.42},\n",
       " {'tm': ' 02', 'p': 1197.55},\n",
       " {'tm': ' 03', 'p': 1567.35},\n",
       " {'tm': ' 04', 'p': 1058.46},\n",
       " {'tm': ' 05', 'p': 867.94},\n",
       " {'tm': ' 06', 'p': 731.64},\n",
       " {'tm': ' 07', 'p': 767.06},\n",
       " {'tm': ' 08', 'p': 853.19},\n",
       " {'tm': ' 09', 'p': 896.51},\n",
       " {'tm': ' 10', 'p': 865.63},\n",
       " {'tm': ' 11', 'p': 883.03},\n",
       " {'tm': ' 12', 'p': 860.18},\n",
       " {'tm': ' 13', 'p': 861.46},\n",
       " {'tm': ' 14', 'p': 872.27},\n",
       " {'tm': ' 15', 'p': 851.84},\n",
       " {'tm': ' 16', 'p': 849.35},\n",
       " {'tm': ' 17', 'p': 810.46},\n",
       " {'tm': ' 18', 'p': 790.99},\n",
       " {'tm': ' 19', 'p': 769.93},\n",
       " {'tm': ' 20', 'p': 755.95},\n",
       " {'tm': ' 21', 'p': 697.25},\n",
       " {'tm': ' 22', 'p': 597.15},\n",
       " {'tm': ' 23', 'p': 549.28}]"
      ]
     },
     "execution_count": 35,
     "metadata": {},
     "output_type": "execute_result"
    }
   ],
   "source": [
    "rDict = []\n",
    "for i in range(len(drc)):\n",
    "    d = {}\n",
    "    d['tm'] = drc[i][0]\n",
    "    d['p'] = drc[i][1]\n",
    "    rDict.append(d)\n",
    "rDict"
   ]
  },
  {
   "cell_type": "markdown",
   "metadata": {},
   "source": [
    "## 7.每天每个城市起降数列表"
   ]
  },
  {
   "cell_type": "markdown",
   "metadata": {},
   "source": [
    "### 时间—每个城市起降数列表<城市，起降数>"
   ]
  },
  {
   "cell_type": "code",
   "execution_count": 3,
   "metadata": {},
   "outputs": [
    {
     "name": "stdout",
     "output_type": "stream",
     "text": [
      "+------+------+---------+--------+------+------+---------+-----------+---------+----------+--------+-----------+-----+----------+--------------------+\n",
      "|arr_ap|arr_ct|   arr_tm| company|dep_ap|dep_ct|   dep_tm|   discount|flightNum| flight_dt|plane_sz| plane_type|price|    qry_dt|            rec_uuid|\n",
      "+------+------+---------+--------+------+------+---------+-----------+---------+----------+--------+-----------+-----+----------+--------------------+\n",
      "|      |  三亚| 00:00:00|吉祥航空|      |  上海| 00:00:00|3.1折经济舱|   HO1129|2019-09-12|      中|   空客A321|730.0|2019-09-11|2c0f8dab-56ff-4ea...|\n",
      "|      |  三亚| 00:00:00|四川航空|      |  重庆| 00:00:00|3.1折经济舱|   3U8715|2019-09-12|      中|   空客A320|560.0|2019-09-11|7f3ff21f-5d3a-4a0...|\n",
      "|      |  三亚| 00:00:00|山东航空|      |  济南| 00:00:00|2.3折经济舱|   SC4751|2019-09-13|      中|波音737-800|640.0|2019-09-12|cc08d14f-f89d-4eb...|\n",
      "+------+------+---------+--------+------+------+---------+-----------+---------+----------+--------+-----------+-----+----------+--------------------+\n",
      "only showing top 3 rows\n",
      "\n"
     ]
    }
   ],
   "source": [
    "df.show(3)"
   ]
  },
  {
   "cell_type": "code",
   "execution_count": 4,
   "metadata": {},
   "outputs": [
    {
     "name": "stdout",
     "output_type": "stream",
     "text": [
      "+------+------+-----+--------------+----+\n",
      "|arr_ct|dep_ct|price|         sp_dt|cnnt|\n",
      "+------+------+-----+--------------+----+\n",
      "|  三亚|  上海|730.0|[2019, 09, 12]| 1.0|\n",
      "|  三亚|  重庆|560.0|[2019, 09, 12]| 1.0|\n",
      "|  三亚|  济南|640.0|[2019, 09, 13]| 1.0|\n",
      "|  三亚|  温州|530.0|[2019, 09, 21]| 1.0|\n",
      "|  三亚|  重庆|530.0|[2019, 09, 12]| 1.0|\n",
      "+------+------+-----+--------------+----+\n",
      "only showing top 5 rows\n",
      "\n"
     ]
    }
   ],
   "source": [
    "dd = df.select(\"arr_ct\",\"dep_ct\",\"flight_dt\",\"price\")\n",
    "dd = dd.select(\"arr_ct\",\"dep_ct\",\"price\",f.split(dd.flight_dt,\"-\").alias(\"sp_dt\"))\n",
    "dd = dd.withColumn(\"cnnt\",f.abs(dd.price-dd.price+1))\n",
    "dd.show(5)"
   ]
  },
  {
   "cell_type": "code",
   "execution_count": 5,
   "metadata": {},
   "outputs": [
    {
     "name": "stdout",
     "output_type": "stream",
     "text": [
      "+------+----+----+-----+---+\n",
      "|dep_ct|cnnt|year|month|day|\n",
      "+------+----+----+-----+---+\n",
      "|  上海| 1.0|2020|   05| 25|\n",
      "|  贵阳| 1.0|2020|   06| 20|\n",
      "|  福州| 1.0|2020|   01| 14|\n",
      "|  南京| 1.0|2020|   01| 30|\n",
      "|  南京| 1.0|2020|   01| 13|\n",
      "+------+----+----+-----+---+\n",
      "only showing top 5 rows\n",
      "\n"
     ]
    }
   ],
   "source": [
    "dd_2 = dd.withColumn('year',dd[\"sp_dt\"].getItem(0)).drop(\"line\").drop(\"arr_ct\").drop(\"price\")\n",
    "dd_2 = dd_2.withColumn('month',dd_2[\"sp_dt\"].getItem(1))\n",
    "dd_2 = dd_2.withColumn('day',dd_2[\"sp_dt\"].getItem(2)).drop(\"sp_dt\")\n",
    "dd_2 = dd_2.filter(dd_2['year'] == '2020')\n",
    "dd_2.show(5)"
   ]
  },
  {
   "cell_type": "code",
   "execution_count": 6,
   "metadata": {},
   "outputs": [
    {
     "name": "stdout",
     "output_type": "stream",
     "text": [
      "+-----+---+------+---------+\n",
      "|month|day|dep_ct|sum(cnnt)|\n",
      "+-----+---+------+---------+\n",
      "|   01| 21|  温州|    134.0|\n",
      "|   05| 11|  上海|    533.0|\n",
      "|   04| 15|  温州|     92.0|\n",
      "|   04| 19|  成都|    338.0|\n",
      "|   03| 03|  成都|    293.0|\n",
      "+-----+---+------+---------+\n",
      "only showing top 5 rows\n",
      "\n"
     ]
    }
   ],
   "source": [
    "dd_3 = dd_2.groupBy(\"month\",\"day\",\"dep_ct\").agg({\"cnnt\":\"sum\"})\n",
    "dd_3.show(5)"
   ]
  },
  {
   "cell_type": "code",
   "execution_count": 7,
   "metadata": {},
   "outputs": [
    {
     "name": "stdout",
     "output_type": "stream",
     "text": [
      "+------+-------+-----+\n",
      "|dep_ct|linenum| date|\n",
      "+------+-------+-----+\n",
      "|  温州|    134|01-21|\n",
      "|  上海|    533|05-11|\n",
      "|  温州|     92|04-15|\n",
      "|  成都|    338|04-19|\n",
      "|  成都|    293|03-03|\n",
      "+------+-------+-----+\n",
      "only showing top 5 rows\n",
      "\n"
     ]
    }
   ],
   "source": [
    "dd_4 = dd_3.withColumn(\"date\", f.concat_ws('-',dd_3['month'],dd_3['day']))\n",
    "dd_4 = dd_4.drop(\"month\").drop(\"day\")\n",
    "dd_4 = dd_4.withColumnRenamed(\"sum(cnnt)\",\"linenum\")\n",
    "dd_4 = dd_4.withColumn(\"linenum\", dd_4[\"linenum\"].cast(IntegerType()))\n",
    "dd_4.show(5)"
   ]
  },
  {
   "cell_type": "code",
   "execution_count": 47,
   "metadata": {},
   "outputs": [],
   "source": [
    "dd_5 = dd_4.groupBy(\"date\").pivot(\"dep_ct\").sum(\"linenum\").na.fill(0)"
   ]
  },
  {
   "cell_type": "markdown",
   "metadata": {},
   "source": [
    "### 全国每天航班数"
   ]
  },
  {
   "cell_type": "code",
   "execution_count": 12,
   "metadata": {},
   "outputs": [
    {
     "name": "stdout",
     "output_type": "stream",
     "text": [
      "+-----+-------+\n",
      "| date|linenum|\n",
      "+-----+-------+\n",
      "|05-25|   6494|\n",
      "|02-29|   1479|\n",
      "|04-13|   5734|\n",
      "|05-09|   5648|\n",
      "|05-21|   6503|\n",
      "+-----+-------+\n",
      "only showing top 5 rows\n",
      "\n"
     ]
    }
   ],
   "source": [
    "dd_5_t = dd_4.groupBy(\"date\").sum(\"linenum\").na.fill(0)\n",
    "dd_5_t = dd_5_t.withColumnRenamed(\"sum(linenum)\",\"linenum\")\n",
    "dd_5_t.show(5)"
   ]
  },
  {
   "cell_type": "code",
   "execution_count": 11,
   "metadata": {},
   "outputs": [],
   "source": [
    "prop = {\n",
    "    'user':'root',\n",
    "    'password':'1',\n",
    "    'driver':'com.mysql.jdbc.Driver'\n",
    "}\n",
    "url = 'jdbc:mysql://localhost:3306/flight?useUnicode=true&characterEncoding=utf8'"
   ]
  },
  {
   "cell_type": "code",
   "execution_count": 13,
   "metadata": {},
   "outputs": [],
   "source": [
    "dd_5_t.write.jdbc(url, 'total_flightnum_byday', properties=prop)"
   ]
  },
  {
   "cell_type": "code",
   "execution_count": null,
   "metadata": {},
   "outputs": [],
   "source": []
  },
  {
   "cell_type": "code",
   "execution_count": 48,
   "metadata": {},
   "outputs": [],
   "source": [
    "city = ['北京','长春','重庆','长沙','成都','石家庄',\n",
    "        '广州','贵阳','桂林','海口','呼和浩特','三亚',\n",
    "        '哈尔滨','济南','昆明','兰州','拉萨','武汉',\n",
    "        '南宁','泉州','青岛','上海','沈阳','郑州',\n",
    "        '深圳','天津','太原','乌鲁木齐','温州','珠海',\n",
    "        '西安','厦门','西宁','银川','扬州','无锡',\n",
    "        '大连','福州','合肥','杭州','南昌','南京']"
   ]
  },
  {
   "cell_type": "code",
   "execution_count": 49,
   "metadata": {},
   "outputs": [
    {
     "name": "stdout",
     "output_type": "stream",
     "text": [
      "+-----+----+----+--------+----+----+----+----+----+----+----+--------+------+----+----+----+----+----+----+----+----+----+----+----+----+----+----+----+----+----+----+----+------+----+----+----+----+----+----+----+----+----+----+\n",
      "| date|三亚|上海|乌鲁木齐|兰州|北京|南京|南宁|南昌|厦门|合肥|呼和浩特|哈尔滨|大连|天津|太原|广州|成都|扬州|拉萨|无锡|昆明|杭州|桂林|武汉|沈阳|泉州|济南|海口|深圳|温州|珠海|石家庄|福州|西宁|西安|贵阳|郑州|重庆|银川|长春|长沙|青岛|\n",
      "+-----+----+----+--------+----+----+----+----+----+----+----+--------+------+----+----+----+----+----+----+----+----+----+----+----+----+----+----+----+----+----+----+----+------+----+----+----+----+----+----+----+----+----+----+\n",
      "|05-25| 144| 485|     131| 100| 370| 190| 116|  87| 180|  82|     103|    85| 131| 156|  88| 331| 361|  33|  48|  60| 248| 245|  42|  47| 117|  65| 130| 147| 351|  86|  94|    69| 105|  65| 262| 154| 184| 322|  86|  75| 164| 155|\n",
      "|02-29|   0| 244|       0|   0| 214|   0|   0|   0| 106|   0|       0|     0|   0|   0|   0| 170|   0|   0|   0|   0|   0| 152|   0|   0|   0|  27|   0|   0| 208|  40|  44|     0|  49|   0|   0|   0|   0| 225|   0|   0|   0|   0|\n",
      "|04-13| 148| 450|     107|  69| 294| 203| 107|  61| 191|  53|      49|   121|  98|  82|  65| 316| 328|  66|  39|  53| 195| 236|  28|  50| 114|  85|  96| 172| 344|  93|  95|    69|  95|  44| 177| 114| 123| 312|  68|  86| 130| 108|\n",
      "|05-09| 122| 444|     110|  95| 258| 168|  92|  78| 147|  66|      82|    49| 112| 120|  75| 278| 329|  45|  44|  61| 209| 223|  38|  40| 131|  60| 110| 136| 290|  73|  76|    71|  86|  80| 227| 135| 155| 286|  69| 104| 138| 136|\n",
      "|05-21| 145| 485|     116| 102| 306| 187| 133|  87| 174|  73|      94|    91| 122| 149|  79| 336| 370|  60|  50|  63| 253| 224|  35|  43| 125|  72| 132| 159| 352|  86| 101|    80| 104|  89| 259| 161| 173| 320|  88|  75| 191| 159|\n",
      "+-----+----+----+--------+----+----+----+----+----+----+----+--------+------+----+----+----+----+----+----+----+----+----+----+----+----+----+----+----+----+----+----+----+------+----+----+----+----+----+----+----+----+----+----+\n",
      "only showing top 5 rows\n",
      "\n"
     ]
    }
   ],
   "source": [
    "dd_5_t = dd_5\n",
    "for c in city:\n",
    "    dd_5_t = dd_5_t.withColumn(c, dd_5[c].cast(IntegerType()))\n",
    "dd_5_t.show(5)"
   ]
  },
  {
   "cell_type": "code",
   "execution_count": 51,
   "metadata": {},
   "outputs": [
    {
     "data": {
      "text/plain": [
       "'{\"date\":\"01-01\",\"三亚\":208,\"上海\":630,\"乌鲁木齐\":163,\"兰州\":125,\"北京\":590,\"南京\":237,\"南宁\":139,\"南昌\":126,\"厦门\":233,\"合肥\":114,\"呼和浩特\":91,\"哈尔滨\":230,\"大连\":171,\"天津\":189,\"太原\":143,\"广州\":449,\"成都\":402,\"扬州\":55,\"拉萨\":54,\"无锡\":70,\"昆明\":357,\"杭州\":302,\"桂林\":64,\"武汉\":195,\"沈阳\":211,\"泉州\":94,\"济南\":151,\"海口\":231,\"深圳\":401,\"温州\":109,\"珠海\":119,\"石家庄\":93,\"福州\":119,\"西宁\":78,\"西安\":370,\"贵阳\":169,\"郑州\":228,\"重庆\":367,\"银川\":113,\"长春\":161,\"长沙\":195,\"青岛\":198}'"
      ]
     },
     "execution_count": 51,
     "metadata": {},
     "output_type": "execute_result"
    }
   ],
   "source": [
    "dd_6 = dd_5_t.orderBy(\"date\")\n",
    "dd_7 = dd_6.toJSON()\n",
    "ddc = dd_7.collect()\n",
    "ddc[0]"
   ]
  },
  {
   "cell_type": "code",
   "execution_count": 53,
   "metadata": {},
   "outputs": [
    {
     "data": {
      "text/plain": [
       "{'date': '01-03',\n",
       " 'linumlist': \"{'三亚': 213, '上海': 598, '乌鲁木齐': 0, '兰州': 0, '北京': 617, '南京': 253, '南宁': 142, '南昌': 0, '厦门': 221, '合肥': 0, '呼和浩特': 0, '哈尔滨': 0, '大连': 0, '天津': 0, '太原': 0, '广州': 437, '成都': 397, '扬州': 52, '拉萨': 52, '无锡': 68, '昆明': 327, '杭州': 302, '桂林': 63, '武汉': 0, '沈阳': 0, '泉州': 98, '济南': 0, '海口': 225, '深圳': 418, '温州': 113, '珠海': 116, '石家庄': 0, '福州': 98, '西宁': 0, '西安': 0, '贵阳': 0, '郑州': 0, '重庆': 322, '银川': 0, '长春': 68, '长沙': 0, '青岛': 0}\"}"
      ]
     },
     "execution_count": 53,
     "metadata": {},
     "output_type": "execute_result"
    }
   ],
   "source": [
    "dDict = []\n",
    "for i in range(len(ddc)):\n",
    "    ret = {}\n",
    "    linumlist = {}\n",
    "    tmp = json.loads(ddc[i])\n",
    "    for key in tmp :\n",
    "        if key == 'date':\n",
    "            ret['date'] = tmp[key]\n",
    "        else :\n",
    "            linumlist[key] = tmp[key]\n",
    "    ret['linumlist']=str(linumlist)\n",
    "    dDict.append(ret)\n",
    "dDict[2]"
   ]
  },
  {
   "cell_type": "code",
   "execution_count": 54,
   "metadata": {},
   "outputs": [
    {
     "name": "stdout",
     "output_type": "stream",
     "text": [
      "+-----+------------------------+\n",
      "| date|               linumlist|\n",
      "+-----+------------------------+\n",
      "|01-01|{'三亚': 208, '上海':...|\n",
      "|01-02|{'三亚': 211, '上海':...|\n",
      "|01-03|{'三亚': 213, '上海':...|\n",
      "|01-04|{'三亚': 208, '上海':...|\n",
      "|01-05|{'三亚': 198, '上海':...|\n",
      "+-----+------------------------+\n",
      "only showing top 5 rows\n",
      "\n"
     ]
    }
   ],
   "source": [
    "from pyspark import SparkConf,SparkContext\n",
    "from pyspark.sql import SQLContext,HiveContext\n",
    "from pyspark.sql.types import *\n",
    "\n",
    "schema = StructType([\n",
    "    StructField(\"date\", StringType(), True),\n",
    "    StructField(\"linumlist\", StringType(), True)])\n",
    "\n",
    "ddf = sqlContext.createDataFrame(dDict,schema)\n",
    "ddf.show(5)"
   ]
  },
  {
   "cell_type": "markdown",
   "metadata": {},
   "source": [
    "### 写数据库(city_flightnum_byday)"
   ]
  },
  {
   "cell_type": "code",
   "execution_count": 55,
   "metadata": {},
   "outputs": [],
   "source": [
    "prop = {\n",
    "    'user':'root',\n",
    "    'password':'1',\n",
    "    'driver':'com.mysql.jdbc.Driver'\n",
    "}\n",
    "url = 'jdbc:mysql://localhost:3306/flight?useUnicode=true&characterEncoding=utf8'"
   ]
  },
  {
   "cell_type": "code",
   "execution_count": 56,
   "metadata": {},
   "outputs": [],
   "source": [
    "ddf.write.jdbc(url, 'city_flightnum_byday', properties=prop)"
   ]
  },
  {
   "cell_type": "code",
   "execution_count": null,
   "metadata": {},
   "outputs": [],
   "source": []
  },
  {
   "cell_type": "markdown",
   "metadata": {},
   "source": [
    "## 8.每个城市平均最低价格及所在最多的时间点"
   ]
  },
  {
   "cell_type": "markdown",
   "metadata": {},
   "source": [
    "### 城市—最低价格—最低价格时间点"
   ]
  },
  {
   "cell_type": "code",
   "execution_count": 3,
   "metadata": {},
   "outputs": [
    {
     "name": "stdout",
     "output_type": "stream",
     "text": [
      "+------+------+---------+--------+------+------+---------+-----------+---------+----------+--------+-----------+-----+----------+--------------------+\n",
      "|arr_ap|arr_ct|   arr_tm| company|dep_ap|dep_ct|   dep_tm|   discount|flightNum| flight_dt|plane_sz| plane_type|price|    qry_dt|            rec_uuid|\n",
      "+------+------+---------+--------+------+------+---------+-----------+---------+----------+--------+-----------+-----+----------+--------------------+\n",
      "|      |  三亚| 00:00:00|吉祥航空|      |  上海| 00:00:00|3.1折经济舱|   HO1129|2019-09-12|      中|   空客A321|730.0|2019-09-11|2c0f8dab-56ff-4ea...|\n",
      "|      |  三亚| 00:00:00|四川航空|      |  重庆| 00:00:00|3.1折经济舱|   3U8715|2019-09-12|      中|   空客A320|560.0|2019-09-11|7f3ff21f-5d3a-4a0...|\n",
      "|      |  三亚| 00:00:00|山东航空|      |  济南| 00:00:00|2.3折经济舱|   SC4751|2019-09-13|      中|波音737-800|640.0|2019-09-12|cc08d14f-f89d-4eb...|\n",
      "+------+------+---------+--------+------+------+---------+-----------+---------+----------+--------+-----------+-----+----------+--------------------+\n",
      "only showing top 3 rows\n",
      "\n"
     ]
    }
   ],
   "source": [
    "df.show(3)"
   ]
  },
  {
   "cell_type": "markdown",
   "metadata": {},
   "source": [
    "### 出发"
   ]
  },
  {
   "cell_type": "code",
   "execution_count": 65,
   "metadata": {},
   "outputs": [
    {
     "name": "stdout",
     "output_type": "stream",
     "text": [
      "+---------+-----+------+----+------+-------+\n",
      "|   dep_tm|price|dep_ct|hour|minute|minutes|\n",
      "+---------+-----+------+----+------+-------+\n",
      "| 00:00:00|730.0|  上海|  00|    00|      0|\n",
      "| 00:00:00|560.0|  重庆|  00|    00|      0|\n",
      "| 00:00:00|640.0|  济南|  00|    00|      0|\n",
      "| 00:00:00|530.0|  温州|  00|    00|      0|\n",
      "| 00:00:00|530.0|  重庆|  00|    00|      0|\n",
      "+---------+-----+------+----+------+-------+\n",
      "only showing top 5 rows\n",
      "\n"
     ]
    }
   ],
   "source": [
    "dv = df.select(\"dep_tm\",\"price\",\"dep_ct\",f.split(df.dep_tm,\":\").alias(\"sp_tm\"))\n",
    "dv = dv.withColumn('hour',dv[\"sp_tm\"].getItem(0))\n",
    "dv = dv.withColumn('minute',dv[\"sp_tm\"].getItem(1)).drop(\"sp_tm\")\n",
    "dv = dv.withColumn(\"minutes\", dv[\"minute\"].cast(IntegerType()))\n",
    "# dv = dv.withColumn(\"hours\", dv[\"hour\"].cast(IntegerType()))\n",
    "dv.show(5)"
   ]
  },
  {
   "cell_type": "code",
   "execution_count": 66,
   "metadata": {},
   "outputs": [
    {
     "name": "stdout",
     "output_type": "stream",
     "text": [
      "+---------+-----+------+----+------+-------+-----+\n",
      "|   dep_tm|price|dep_ct|hour|minute|minutes|ihour|\n",
      "+---------+-----+------+----+------+-------+-----+\n",
      "| 00:00:00|730.0|  上海|  00|    00|      0|   00|\n",
      "| 00:00:00|560.0|  重庆|  00|    00|      0|   00|\n",
      "| 00:00:00|640.0|  济南|  00|    00|      0|   00|\n",
      "| 00:00:00|530.0|  温州|  00|    00|      0|   00|\n",
      "| 00:00:00|530.0|  重庆|  00|    00|      0|   00|\n",
      "+---------+-----+------+----+------+-------+-----+\n",
      "only showing top 5 rows\n",
      "\n"
     ]
    }
   ],
   "source": [
    "dv_t = dv.select(\"*\",f.split(dv.hour,\" \").alias(\"sp_tm\"))\n",
    "dv_t2 = dv_t.withColumn('ihour',dv_t[\"sp_tm\"].getItem(1)).drop(\"sp_tm\")\n",
    "dv_t2.show(5)"
   ]
  },
  {
   "cell_type": "code",
   "execution_count": 68,
   "metadata": {},
   "outputs": [
    {
     "name": "stdout",
     "output_type": "stream",
     "text": [
      "+-----+--------+----------+------------+--------+\n",
      "|ihour|  dep_ct|sum(price)|sum(minutes)|sum(cnt)|\n",
      "+-----+--------+----------+------------+--------+\n",
      "|   08|乌鲁木齐| 2741750.0|       51185|  2223.0|\n",
      "|   12|    大连| 1628540.0|       70780|  2199.0|\n",
      "|   13|    南京| 1326985.0|       62650|  2039.0|\n",
      "|   14|    海口| 2523711.0|       70665|  2701.0|\n",
      "|   15|    沈阳| 2083463.0|       48520|  1926.0|\n",
      "+-----+--------+----------+------------+--------+\n",
      "only showing top 5 rows\n",
      "\n"
     ]
    }
   ],
   "source": [
    "dv_2 = dv_t2.withColumn(\"cnt\",f.abs(dv_t2.price-dv_t2.price+1))\n",
    "dv_2 = dv_2.groupBy(\"ihour\",\"dep_ct\").agg({\"price\":\"sum\",\"cnt\":\"sum\",\"minutes\":\"sum\"})\n",
    "dv_2.show(5)"
   ]
  },
  {
   "cell_type": "code",
   "execution_count": 69,
   "metadata": {},
   "outputs": [
    {
     "name": "stdout",
     "output_type": "stream",
     "text": [
      "+-----+--------+---------+----------+\n",
      "|ihour|  dep_ct|avg_price|avg_minute|\n",
      "+-----+--------+---------+----------+\n",
      "|   08|乌鲁木齐|  1233.36|     23.03|\n",
      "|   12|    大连|   740.58|     32.19|\n",
      "|   13|    南京|    650.8|     30.73|\n",
      "|   14|    海口|   934.36|     26.16|\n",
      "|   15|    沈阳|  1081.76|     25.19|\n",
      "+-----+--------+---------+----------+\n",
      "only showing top 5 rows\n",
      "\n"
     ]
    }
   ],
   "source": [
    "dv_3 = dv_2.select(\"*\",dv_2['sum(price)']/dv_2['sum(cnt)'],dv_2['sum(minutes)']/dv_2['sum(cnt)'])\n",
    "dv_3 = dv_3.drop('sum(price)').drop('sum(cnt)').drop('sum(minutes)')\n",
    "dv_3 = dv_3.select(\"*\",f.bround(\"(sum(price) / sum(cnt))\", scale=2).alias('avg_price')).drop(\"(sum(price) / sum(cnt))\")\n",
    "dv_3 = dv_3.select(\"*\",f.bround(\"(sum(minutes) / sum(cnt))\", scale=2).alias('avg_minute')).drop(\"(sum(minutes) / sum(cnt))\")\n",
    "dv_3.show(5)"
   ]
  },
  {
   "cell_type": "code",
   "execution_count": 70,
   "metadata": {},
   "outputs": [
    {
     "name": "stdout",
     "output_type": "stream",
     "text": [
      "+-----+--------+---------+----------+-------+------+\n",
      "|ihour|  dep_ct|avg_price|avg_minute|minutes|minute|\n",
      "+-----+--------+---------+----------+-------+------+\n",
      "|   08|乌鲁木齐|  1233.36|     23.03|     23|    23|\n",
      "|   12|    大连|   740.58|     32.19|     32|    32|\n",
      "|   13|    南京|    650.8|     30.73|     30|    30|\n",
      "|   14|    海口|   934.36|     26.16|     26|    26|\n",
      "|   15|    沈阳|  1081.76|     25.19|     25|    25|\n",
      "+-----+--------+---------+----------+-------+------+\n",
      "only showing top 5 rows\n",
      "\n"
     ]
    }
   ],
   "source": [
    "dv_4 = dv_3.withColumn(\"minutes\", dv_3[\"avg_minute\"].cast(IntegerType()))\n",
    "dv_4 = dv_4.withColumn(\"minute\", dv_4[\"minutes\"].cast(\"string\"))\n",
    "dv_4.show(5)"
   ]
  },
  {
   "cell_type": "code",
   "execution_count": 75,
   "metadata": {},
   "outputs": [
    {
     "data": {
      "text/plain": [
       "Row(ihour='08', dep_ct='乌鲁木齐', avg_price=1233.36, minute='23')"
      ]
     },
     "execution_count": 75,
     "metadata": {},
     "output_type": "execute_result"
    }
   ],
   "source": [
    "dv_5 = dv_4.select(\"ihour\",\"dep_ct\",\"avg_price\",\"minute\")\n",
    "dvc = dv_5.collect()\n",
    "dvc[0]"
   ]
  },
  {
   "cell_type": "markdown",
   "metadata": {},
   "source": [
    "#### 开始选出每个城市的最小值"
   ]
  },
  {
   "cell_type": "code",
   "execution_count": 73,
   "metadata": {},
   "outputs": [
    {
     "data": {
      "text/plain": [
       "828"
      ]
     },
     "execution_count": 73,
     "metadata": {},
     "output_type": "execute_result"
    }
   ],
   "source": [
    "len(dvc)"
   ]
  },
  {
   "cell_type": "code",
   "execution_count": 61,
   "metadata": {
    "collapsed": true
   },
   "outputs": [
    {
     "name": "stdout",
     "output_type": "stream",
     "text": [
      "42\n"
     ]
    },
    {
     "data": {
      "text/plain": [
       "{'乌鲁木齐': ('22.11', 895.8),\n",
       " '大连': ('23.16', 432.71),\n",
       " '南京': ('23.11', 450.68),\n",
       " '海口': ('23.23', 578.21),\n",
       " '沈阳': ('22.19', 410.76),\n",
       " '福州': ('23.15', 506.17),\n",
       " '昆明': ('23.17', 510.61),\n",
       " '北京': ('23.14', 620.02),\n",
       " '济南': ('23.16', 538.52),\n",
       " '拉萨': ('23.45', 334.0),\n",
       " '温州': ('23.22', 436.39),\n",
       " '天津': ('23.18', 403.49),\n",
       " '贵阳': ('23.19', 489.67),\n",
       " '珠海': ('23.14', 570.52),\n",
       " '呼和浩特': ('22.33', 470.42),\n",
       " '长沙': ('22.22', 461.14),\n",
       " '西安': ('05.50', 350.0),\n",
       " '桂林': ('20.25', 436.45),\n",
       " '武汉': ('06.30', 375.0),\n",
       " '重庆': ('23.25', 457.62),\n",
       " '长春': ('06.19', 492.42),\n",
       " '石家庄': ('23.16', 459.51),\n",
       " '无锡': ('23.13', 544.02),\n",
       " '深圳': ('23.28', 627.0),\n",
       " '厦门': ('22.20', 439.15),\n",
       " '青岛': ('23.26', 468.02),\n",
       " '扬州': ('08.26', 346.96),\n",
       " '三亚': ('05.35', 615.0),\n",
       " '合肥': ('22.25', 480.12),\n",
       " '太原': ('01.05', 525.0),\n",
       " '南昌': ('00.25', 483.25),\n",
       " '杭州': ('23.18', 534.71),\n",
       " '郑州': ('01.50', 415.0),\n",
       " '广州': ('23.19', 668.46),\n",
       " '兰州': ('21.28', 592.08),\n",
       " '南宁': ('23.37', 429.24),\n",
       " '银川': ('23.37', 517.68),\n",
       " '上海': ('23.11', 581.39),\n",
       " '西宁': ('06.37', 557.5),\n",
       " '成都': ('23.21', 535.58),\n",
       " '哈尔滨': ('23.34', 579.21),\n",
       " '泉州': ('23.26', 308.7)}"
      ]
     },
     "execution_count": 61,
     "metadata": {},
     "output_type": "execute_result"
    }
   ],
   "source": [
    "no = ['0','1','2','3','4','5','6','7','8','9']\n",
    "\n",
    "vDict = {}\n",
    "for i in range(len(dvc)):\n",
    "    dvc3 = dvc[i][3]\n",
    "    if(dvc[i][3] in no):\n",
    "        dvc3 = '0'+dvc3\n",
    "    if dvc[i][1] not in vDict:\n",
    "        vDict[dvc[i][1]] = (f'{dvc[i][0]}.{dvc3}',dvc[i][2])\n",
    "    else :\n",
    "        if vDict[dvc[i][1]][1] > dvc[i][2] :\n",
    "            vDict[dvc[i][1]] = (f'{dvc[i][0]}.{dvc3}',dvc[i][2])\n",
    "print(len(vDict))\n",
    "vDict    "
   ]
  },
  {
   "cell_type": "code",
   "execution_count": 62,
   "metadata": {},
   "outputs": [
    {
     "data": {
      "text/plain": [
       "[{'city': '乌鲁木齐', 'clock': '22.11', 'price': 895.8},\n",
       " {'city': '大连', 'clock': '23.16', 'price': 432.71},\n",
       " {'city': '南京', 'clock': '23.11', 'price': 450.68},\n",
       " {'city': '海口', 'clock': '23.23', 'price': 578.21},\n",
       " {'city': '沈阳', 'clock': '22.19', 'price': 410.76},\n",
       " {'city': '福州', 'clock': '23.15', 'price': 506.17},\n",
       " {'city': '昆明', 'clock': '23.17', 'price': 510.61},\n",
       " {'city': '北京', 'clock': '23.14', 'price': 620.02},\n",
       " {'city': '济南', 'clock': '23.16', 'price': 538.52},\n",
       " {'city': '拉萨', 'clock': '23.45', 'price': 334.0},\n",
       " {'city': '温州', 'clock': '23.22', 'price': 436.39},\n",
       " {'city': '天津', 'clock': '23.18', 'price': 403.49},\n",
       " {'city': '贵阳', 'clock': '23.19', 'price': 489.67},\n",
       " {'city': '珠海', 'clock': '23.14', 'price': 570.52},\n",
       " {'city': '呼和浩特', 'clock': '22.33', 'price': 470.42},\n",
       " {'city': '长沙', 'clock': '22.22', 'price': 461.14},\n",
       " {'city': '西安', 'clock': '05.50', 'price': 350.0},\n",
       " {'city': '桂林', 'clock': '20.25', 'price': 436.45},\n",
       " {'city': '武汉', 'clock': '06.30', 'price': 375.0},\n",
       " {'city': '重庆', 'clock': '23.25', 'price': 457.62},\n",
       " {'city': '长春', 'clock': '06.19', 'price': 492.42},\n",
       " {'city': '石家庄', 'clock': '23.16', 'price': 459.51},\n",
       " {'city': '无锡', 'clock': '23.13', 'price': 544.02},\n",
       " {'city': '深圳', 'clock': '23.28', 'price': 627.0},\n",
       " {'city': '厦门', 'clock': '22.20', 'price': 439.15},\n",
       " {'city': '青岛', 'clock': '23.26', 'price': 468.02},\n",
       " {'city': '扬州', 'clock': '08.26', 'price': 346.96},\n",
       " {'city': '三亚', 'clock': '05.35', 'price': 615.0},\n",
       " {'city': '合肥', 'clock': '22.25', 'price': 480.12},\n",
       " {'city': '太原', 'clock': '01.05', 'price': 525.0},\n",
       " {'city': '南昌', 'clock': '00.25', 'price': 483.25},\n",
       " {'city': '杭州', 'clock': '23.18', 'price': 534.71},\n",
       " {'city': '郑州', 'clock': '01.50', 'price': 415.0},\n",
       " {'city': '广州', 'clock': '23.19', 'price': 668.46},\n",
       " {'city': '兰州', 'clock': '21.28', 'price': 592.08},\n",
       " {'city': '南宁', 'clock': '23.37', 'price': 429.24},\n",
       " {'city': '银川', 'clock': '23.37', 'price': 517.68},\n",
       " {'city': '上海', 'clock': '23.11', 'price': 581.39},\n",
       " {'city': '西宁', 'clock': '06.37', 'price': 557.5},\n",
       " {'city': '成都', 'clock': '23.21', 'price': 535.58},\n",
       " {'city': '哈尔滨', 'clock': '23.34', 'price': 579.21},\n",
       " {'city': '泉州', 'clock': '23.26', 'price': 308.7}]"
      ]
     },
     "execution_count": 62,
     "metadata": {},
     "output_type": "execute_result"
    }
   ],
   "source": [
    "vAns = []\n",
    "for k in vDict:\n",
    "    d = {}\n",
    "    d['city'] = k\n",
    "    d['clock'] = vDict[k][0]\n",
    "    d['price'] = vDict[k][1]\n",
    "    vAns.append(d)\n",
    "vAns"
   ]
  },
  {
   "cell_type": "markdown",
   "metadata": {},
   "source": [
    "### 到达"
   ]
  },
  {
   "cell_type": "code",
   "execution_count": 63,
   "metadata": {},
   "outputs": [
    {
     "name": "stdout",
     "output_type": "stream",
     "text": [
      "+---------+-----+------+----+------+-------+\n",
      "|   dep_tm|price|arr_ct|hour|minute|minutes|\n",
      "+---------+-----+------+----+------+-------+\n",
      "| 00:00:00|730.0|  三亚|  00|    00|      0|\n",
      "| 00:00:00|560.0|  三亚|  00|    00|      0|\n",
      "| 00:00:00|640.0|  三亚|  00|    00|      0|\n",
      "| 00:00:00|530.0|  三亚|  00|    00|      0|\n",
      "| 00:00:00|530.0|  三亚|  00|    00|      0|\n",
      "+---------+-----+------+----+------+-------+\n",
      "only showing top 5 rows\n",
      "\n"
     ]
    }
   ],
   "source": [
    "dc = df.select(\"dep_tm\",\"price\",\"arr_ct\",f.split(df.arr_tm,\":\").alias(\"sp_tm\"))\n",
    "dc = dc.withColumn('hour',dc[\"sp_tm\"].getItem(0))\n",
    "dc = dc.withColumn('minute',dc[\"sp_tm\"].getItem(1)).drop(\"sp_tm\")\n",
    "dc = dc.withColumn(\"minutes\", dc[\"minute\"].cast(IntegerType()))\n",
    "# dv = dv.withColumn(\"hours\", dv[\"hour\"].cast(IntegerType()))\n",
    "dc.show(5)"
   ]
  },
  {
   "cell_type": "code",
   "execution_count": 64,
   "metadata": {},
   "outputs": [
    {
     "name": "stdout",
     "output_type": "stream",
     "text": [
      "+---------+-----+------+----+------+-------+-----+\n",
      "|   dep_tm|price|arr_ct|hour|minute|minutes|ihour|\n",
      "+---------+-----+------+----+------+-------+-----+\n",
      "| 00:00:00|730.0|  三亚|  00|    00|      0|   00|\n",
      "| 00:00:00|560.0|  三亚|  00|    00|      0|   00|\n",
      "| 00:00:00|640.0|  三亚|  00|    00|      0|   00|\n",
      "| 00:00:00|530.0|  三亚|  00|    00|      0|   00|\n",
      "| 00:00:00|530.0|  三亚|  00|    00|      0|   00|\n",
      "+---------+-----+------+----+------+-------+-----+\n",
      "only showing top 5 rows\n",
      "\n"
     ]
    }
   ],
   "source": [
    "dc_t = dc.select(\"*\",f.split(dc.hour,\" \").alias(\"sp_tm\"))\n",
    "dc_t2 = dc_t.withColumn('ihour',dc_t[\"sp_tm\"].getItem(1)).drop(\"sp_tm\")\n",
    "dc_t2.show(5)"
   ]
  },
  {
   "cell_type": "code",
   "execution_count": 74,
   "metadata": {},
   "outputs": [
    {
     "name": "stdout",
     "output_type": "stream",
     "text": [
      "+-----+--------+----------+------------+--------+\n",
      "|ihour|  arr_ct|sum(price)|sum(minutes)|sum(cnt)|\n",
      "+-----+--------+----------+------------+--------+\n",
      "|   12|    大连| 1882452.0|       55080|  2422.0|\n",
      "|   13|    南京| 2043076.0|       80655|  2584.0|\n",
      "|   14|    海口| 1923775.0|       61245|  2044.0|\n",
      "|   15|    沈阳| 2083995.0|       78430|  2283.0|\n",
      "|   08|乌鲁木齐|   43010.0|         855|    24.0|\n",
      "+-----+--------+----------+------------+--------+\n",
      "only showing top 5 rows\n",
      "\n"
     ]
    }
   ],
   "source": [
    "dc_2 = dc_t2.withColumn(\"cnt\",f.abs(dc_t2.price-dc_t2.price+1))\n",
    "dc_2 = dc_2.groupBy(\"ihour\",\"arr_ct\").agg({\"price\":\"sum\",\"cnt\":\"sum\",\"minutes\":\"sum\"})\n",
    "dc_2.show(5)"
   ]
  },
  {
   "cell_type": "code",
   "execution_count": 77,
   "metadata": {},
   "outputs": [
    {
     "name": "stdout",
     "output_type": "stream",
     "text": [
      "+-----+--------+---------+----------+\n",
      "|ihour|  arr_ct|avg_price|avg_minute|\n",
      "+-----+--------+---------+----------+\n",
      "|   12|    大连|   777.23|     22.74|\n",
      "|   13|    南京|   790.66|     31.21|\n",
      "|   14|    海口|   941.18|     29.96|\n",
      "|   15|    沈阳|   912.83|     34.35|\n",
      "|   08|乌鲁木齐|  1792.08|     35.62|\n",
      "+-----+--------+---------+----------+\n",
      "only showing top 5 rows\n",
      "\n"
     ]
    }
   ],
   "source": [
    "dc_3 = dc_2.select(\"*\",dc_2['sum(price)']/dc_2['sum(cnt)'],dc_2['sum(minutes)']/dc_2['sum(cnt)'])\n",
    "dc_3 = dc_3.drop('sum(price)').drop('sum(cnt)').drop('sum(minutes)')\n",
    "dc_3 = dc_3.select(\"*\",f.bround(\"(sum(price) / sum(cnt))\", scale=2).alias('avg_price')).drop(\"(sum(price) / sum(cnt))\")\n",
    "dc_3 = dc_3.select(\"*\",f.bround(\"(sum(minutes) / sum(cnt))\", scale=2).alias('avg_minute')).drop(\"(sum(minutes) / sum(cnt))\")\n",
    "dc_3.show(5)"
   ]
  },
  {
   "cell_type": "code",
   "execution_count": 78,
   "metadata": {},
   "outputs": [
    {
     "name": "stdout",
     "output_type": "stream",
     "text": [
      "+-----+--------+---------+----------+-------+------+\n",
      "|ihour|  arr_ct|avg_price|avg_minute|minutes|minute|\n",
      "+-----+--------+---------+----------+-------+------+\n",
      "|   12|    大连|   777.23|     22.74|     22|    22|\n",
      "|   13|    南京|   790.66|     31.21|     31|    31|\n",
      "|   14|    海口|   941.18|     29.96|     29|    29|\n",
      "|   15|    沈阳|   912.83|     34.35|     34|    34|\n",
      "|   08|乌鲁木齐|  1792.08|     35.62|     35|    35|\n",
      "+-----+--------+---------+----------+-------+------+\n",
      "only showing top 5 rows\n",
      "\n"
     ]
    }
   ],
   "source": [
    "dc_4 = dc_3.withColumn(\"minutes\", dc_3[\"avg_minute\"].cast(IntegerType()))\n",
    "dc_4 = dc_4.withColumn(\"minute\", dc_4[\"minutes\"].cast(\"string\"))\n",
    "dc_4.show(5)"
   ]
  },
  {
   "cell_type": "code",
   "execution_count": 79,
   "metadata": {},
   "outputs": [
    {
     "data": {
      "text/plain": [
       "Row(ihour='12', arr_ct='大连', avg_price=777.23, minute='22')"
      ]
     },
     "execution_count": 79,
     "metadata": {},
     "output_type": "execute_result"
    }
   ],
   "source": [
    "dc_5 = dc_4.select(\"ihour\",\"arr_ct\",\"avg_price\",\"minute\")\n",
    "dcc = dc_5.collect()\n",
    "dcc[0]"
   ]
  },
  {
   "cell_type": "code",
   "execution_count": 80,
   "metadata": {},
   "outputs": [
    {
     "data": {
      "text/plain": [
       "819"
      ]
     },
     "execution_count": 80,
     "metadata": {},
     "output_type": "execute_result"
    }
   ],
   "source": [
    "len(dcc)"
   ]
  },
  {
   "cell_type": "code",
   "execution_count": 82,
   "metadata": {},
   "outputs": [
    {
     "name": "stdout",
     "output_type": "stream",
     "text": [
      "42\n"
     ]
    },
    {
     "data": {
      "text/plain": [
       "{'大连': ('07.55', 516.89),\n",
       " '南京': ('08.40', 512.39),\n",
       " '海口': ('08.29', 622.22),\n",
       " '沈阳': ('07.55', 577.1),\n",
       " '乌鲁木齐': ('01.24', 1179.55),\n",
       " '北京': ('08.46', 660.4),\n",
       " '福州': ('07.48', 277.25),\n",
       " '昆明': ('07.34', 366.38),\n",
       " '济南': ('08.34', 517.4),\n",
       " '拉萨': ('08.38', 1079.21),\n",
       " '温州': ('09.37', 560.9),\n",
       " '珠海': ('07.33', 412.0),\n",
       " '贵阳': ('08.42', 584.48),\n",
       " '天津': ('08.35', 486.55),\n",
       " '长沙': ('08.41', 409.54),\n",
       " '呼和浩特': ('20.22', 665.96),\n",
       " '西安': ('07.46', 388.35),\n",
       " '青岛': ('08.32', 468.23),\n",
       " '武汉': ('07.54', 405.24),\n",
       " '重庆': ('07.52', 400.4),\n",
       " '桂林': ('04.10', 415.0),\n",
       " '长春': ('07.51', 506.67),\n",
       " '深圳': ('08.35', 580.06),\n",
       " '厦门': ('08.42', 529.5),\n",
       " '无锡': ('08.41', 593.97),\n",
       " '石家庄': ('08.45', 486.23),\n",
       " '扬州': ('08.51', 270.0),\n",
       " '三亚': ('09.23', 703.46),\n",
       " '合肥': ('08.32', 529.3),\n",
       " '太原': ('08.38', 537.63),\n",
       " '南昌': ('09.27', 518.28),\n",
       " '杭州': ('08.37', 547.86),\n",
       " '兰州': ('07.35', 351.6),\n",
       " '广州': ('08.34', 587.94),\n",
       " '郑州': ('07.55', 250.0),\n",
       " '南宁': ('07.50', 257.36),\n",
       " '上海': ('08.42', 642.98),\n",
       " '银川': ('07.45', 358.93),\n",
       " '西宁': ('07.38', 296.43),\n",
       " '成都': ('07.47', 368.39),\n",
       " '哈尔滨': ('01.34', 815.68),\n",
       " '泉州': ('09.17', 524.83)}"
      ]
     },
     "execution_count": 82,
     "metadata": {},
     "output_type": "execute_result"
    }
   ],
   "source": [
    "noc = ['0','1','2','3','4','5','6','7','8','9']\n",
    "\n",
    "cDict = {}\n",
    "for i in range(len(dcc)):\n",
    "    dcc_3 = dcc[i][3]\n",
    "    if(dcc[i][3] in noc):\n",
    "        dcc_3 = '0'+dcc_3\n",
    "    if dcc[i][1] not in cDict:\n",
    "        cDict[dcc[i][1]] = (f'{dcc[i][0]}.{dcc_3}',dcc[i][2])\n",
    "    else :\n",
    "        if cDict[dcc[i][1]][1] > dcc[i][2] :\n",
    "            cDict[dcc[i][1]] = (f'{dcc[i][0]}.{dcc_3}',dcc[i][2])\n",
    "print(len(cDict))\n",
    "cDict    "
   ]
  },
  {
   "cell_type": "code",
   "execution_count": 83,
   "metadata": {},
   "outputs": [
    {
     "data": {
      "text/plain": [
       "[{'city': '大连', 'clock': '07.55', 'price': 516.89},\n",
       " {'city': '南京', 'clock': '08.40', 'price': 512.39},\n",
       " {'city': '海口', 'clock': '08.29', 'price': 622.22},\n",
       " {'city': '沈阳', 'clock': '07.55', 'price': 577.1},\n",
       " {'city': '乌鲁木齐', 'clock': '01.24', 'price': 1179.55},\n",
       " {'city': '北京', 'clock': '08.46', 'price': 660.4},\n",
       " {'city': '福州', 'clock': '07.48', 'price': 277.25},\n",
       " {'city': '昆明', 'clock': '07.34', 'price': 366.38},\n",
       " {'city': '济南', 'clock': '08.34', 'price': 517.4},\n",
       " {'city': '拉萨', 'clock': '08.38', 'price': 1079.21},\n",
       " {'city': '温州', 'clock': '09.37', 'price': 560.9},\n",
       " {'city': '珠海', 'clock': '07.33', 'price': 412.0},\n",
       " {'city': '贵阳', 'clock': '08.42', 'price': 584.48},\n",
       " {'city': '天津', 'clock': '08.35', 'price': 486.55},\n",
       " {'city': '长沙', 'clock': '08.41', 'price': 409.54},\n",
       " {'city': '呼和浩特', 'clock': '20.22', 'price': 665.96},\n",
       " {'city': '西安', 'clock': '07.46', 'price': 388.35},\n",
       " {'city': '青岛', 'clock': '08.32', 'price': 468.23},\n",
       " {'city': '武汉', 'clock': '07.54', 'price': 405.24},\n",
       " {'city': '重庆', 'clock': '07.52', 'price': 400.4},\n",
       " {'city': '桂林', 'clock': '04.10', 'price': 415.0},\n",
       " {'city': '长春', 'clock': '07.51', 'price': 506.67},\n",
       " {'city': '深圳', 'clock': '08.35', 'price': 580.06},\n",
       " {'city': '厦门', 'clock': '08.42', 'price': 529.5},\n",
       " {'city': '无锡', 'clock': '08.41', 'price': 593.97},\n",
       " {'city': '石家庄', 'clock': '08.45', 'price': 486.23},\n",
       " {'city': '扬州', 'clock': '08.51', 'price': 270.0},\n",
       " {'city': '三亚', 'clock': '09.23', 'price': 703.46},\n",
       " {'city': '合肥', 'clock': '08.32', 'price': 529.3},\n",
       " {'city': '太原', 'clock': '08.38', 'price': 537.63},\n",
       " {'city': '南昌', 'clock': '09.27', 'price': 518.28},\n",
       " {'city': '杭州', 'clock': '08.37', 'price': 547.86},\n",
       " {'city': '兰州', 'clock': '07.35', 'price': 351.6},\n",
       " {'city': '广州', 'clock': '08.34', 'price': 587.94},\n",
       " {'city': '郑州', 'clock': '07.55', 'price': 250.0},\n",
       " {'city': '南宁', 'clock': '07.50', 'price': 257.36},\n",
       " {'city': '上海', 'clock': '08.42', 'price': 642.98},\n",
       " {'city': '银川', 'clock': '07.45', 'price': 358.93},\n",
       " {'city': '西宁', 'clock': '07.38', 'price': 296.43},\n",
       " {'city': '成都', 'clock': '07.47', 'price': 368.39},\n",
       " {'city': '哈尔滨', 'clock': '01.34', 'price': 815.68},\n",
       " {'city': '泉州', 'clock': '09.17', 'price': 524.83}]"
      ]
     },
     "execution_count": 83,
     "metadata": {},
     "output_type": "execute_result"
    }
   ],
   "source": [
    "cAns = []\n",
    "for k in cDict:\n",
    "    d = {}\n",
    "    d['city'] = k\n",
    "    d['clock'] = cDict[k][0]\n",
    "    d['price'] = cDict[k][1]\n",
    "    cAns.append(d)\n",
    "cAns"
   ]
  },
  {
   "cell_type": "code",
   "execution_count": null,
   "metadata": {},
   "outputs": [],
   "source": []
  }
 ],
 "metadata": {
  "kernelspec": {
   "display_name": "Python 3",
   "language": "python",
   "name": "python3"
  },
  "language_info": {
   "codemirror_mode": {
    "name": "ipython",
    "version": 3
   },
   "file_extension": ".py",
   "mimetype": "text/x-python",
   "name": "python",
   "nbconvert_exporter": "python",
   "pygments_lexer": "ipython3",
   "version": "3.7.4"
  }
 },
 "nbformat": 4,
 "nbformat_minor": 2
}
